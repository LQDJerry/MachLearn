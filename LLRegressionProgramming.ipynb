{
  "nbformat": 4,
  "nbformat_minor": 0,
  "metadata": {
    "colab": {
      "name": "LLRegressionProgramming.ipynb",
      "provenance": [],
      "authorship_tag": "ABX9TyPw3qYPn2YPTzZ6AeI29Q+i",
      "include_colab_link": true
    },
    "kernelspec": {
      "name": "python3",
      "display_name": "Python 3"
    },
    "language_info": {
      "name": "python"
    }
  },
  "cells": [
    {
      "cell_type": "markdown",
      "metadata": {
        "id": "view-in-github",
        "colab_type": "text"
      },
      "source": [
        "<a href=\"https://colab.research.google.com/github/LQDJerry/MachLearn/blob/main/LLRegressionProgramming.ipynb\" target=\"_parent\"><img src=\"https://colab.research.google.com/assets/colab-badge.svg\" alt=\"Open In Colab\"/></a>"
      ]
    },
    {
      "cell_type": "code",
      "metadata": {
        "id": "IIg2SPyA8t9y"
      },
      "source": [
        "import pandas as pd\n",
        "import seaborn as sns\n",
        "import random\n",
        "import numpy as np\n",
        "import matplotlib.pyplot as plt\n",
        "from sklearn.linear_model import LogisticRegression\n",
        "from sklearn.metrics import classification_report\n",
        "from sklearn.metrics import accuracy_score\n",
        "from sklearn.model_selection import train_test_split\n",
        "from sklearn import datasets\n",
        "data = sns.load_dataset(\"iris\")\n"
      ],
      "execution_count": null,
      "outputs": []
    },
    {
      "cell_type": "code",
      "metadata": {
        "colab": {
          "base_uri": "https://localhost:8080/",
          "height": 265
        },
        "id": "h_SCPaxOFK08",
        "outputId": "ab780622-b26f-4302-ea65-3fecc73a31a5"
      },
      "source": [
        "#this is the data set visualized of sepal length, sepal width, petal length, and petal width compared\n",
        "X1 = data.iloc[:, :-1]\n",
        "Y1 = data.iloc[:, -1]\n",
        "\n",
        "pltX = data.loc[:, 'sepal_length']\n",
        "pltY = data.loc[:,'species']\n",
        "plt.scatter(pltX, pltY, color='yellow', label='sepal_length')\n",
        "\n",
        "pltX = data.loc[:, 'sepal_width']\n",
        "pltY = data.loc[:,'species']\n",
        "plt.scatter(pltX, pltY, color='purple', label='sepal_width')\n",
        "\n",
        "pltX = data.loc[:, 'petal_length']\n",
        "pltY = data.loc[:,'species']\n",
        "plt.scatter(pltX, pltY, color='orange', label='petal_length')\n",
        "\n",
        "pltX = data.loc[:, 'petal_width']\n",
        "pltY = data.loc[:,'species']\n",
        "plt.scatter(pltX, pltY, color='red', label='petal_width')\n",
        "\n",
        "plt.legend(loc=4, prop={'size':8})\n",
        "plt.show()"
      ],
      "execution_count": null,
      "outputs": [
        {
          "output_type": "display_data",
          "data": {
            "image/png": "[encoded data removed]",
            "text/plain": [
              "<Figure size 432x288 with 1 Axes>"
            ]
          },
          "metadata": {
            "needs_background": "light"
          }
        }
      ]
    },
    {
      "cell_type": "code",
      "metadata": {
        "colab": {
          "base_uri": "https://localhost:8080/"
        },
        "id": "BYDi1RSX_iv7",
        "outputId": "510ffa5b-7707-447d-c3a6-88bb8d1f78a2"
      },
      "source": [
        "irisData = pd.read_csv('https://raw.githubusercontent.com/LQDJerry/MachLearn/main/iris.data.csv', \n",
        "                       names=[\"SepLen\", \"SepWid\", \"PetLen\", \"PetWid\", \"Class\"])\n",
        " # we import the iris data needed\n",
        "\n",
        "\n",
        "print(irisData)\n",
        "\n",
        "#setting as a list to work with data inside\n",
        "irisData = irisData.values.tolist()\n",
        "#splitting data from flower type\n",
        "irisDataSet = [((1,x1,x2,x3,x4), flowerType) for (x1,x2,x3,x4,flowerType) in irisData]\n",
        "\n",
        "\n",
        "#placing data in X with flower species as target \n",
        "X = [x for (x,y) in irisDataSet]\n",
        "Y = [y for (x,y) in irisDataSet]\n",
        "\n",
        "print(X)\n",
        "\n",
        "print(Y)\n",
        "\n",
        "\n"
      ],
      "execution_count": null,
      "outputs": [
        {
          "output_type": "stream",
          "name": "stdout",
          "text": [
            "     SepLen  SepWid  PetLen  PetWid           Class\n",
            "0       5.1     3.5     1.4     0.2     Iris-setosa\n",
            "1       4.9     3.0     1.4     0.2     Iris-setosa\n",
            "2       4.7     3.2     1.3     0.2     Iris-setosa\n",
            "3       4.6     3.1     1.5     0.2     Iris-setosa\n",
            "4       5.0     3.6     1.4     0.2     Iris-setosa\n",
            "..      ...     ...     ...     ...             ...\n",
            "145     6.7     3.0     5.2     2.3  Iris-virginica\n",
            "146     6.3     2.5     5.0     1.9  Iris-virginica\n",
            "147     6.5     3.0     5.2     2.0  Iris-virginica\n",
            "148     6.2     3.4     5.4     2.3  Iris-virginica\n",
            "149     5.9     3.0     5.1     1.8  Iris-virginica\n",
            "\n",
            "[150 rows x 5 columns]\n",
            "[(1, 5.1, 3.5, 1.4, 0.2), (1, 4.9, 3.0, 1.4, 0.2), (1, 4.7, 3.2, 1.3, 0.2), (1, 4.6, 3.1, 1.5, 0.2), (1, 5.0, 3.6, 1.4, 0.2), (1, 5.4, 3.9, 1.7, 0.4), (1, 4.6, 3.4, 1.4, 0.3), (1, 5.0, 3.4, 1.5, 0.2), (1, 4.4, 2.9, 1.4, 0.2), (1, 4.9, 3.1, 1.5, 0.1), (1, 5.4, 3.7, 1.5, 0.2), (1, 4.8, 3.4, 1.6, 0.2), (1, 4.8, 3.0, 1.4, 0.1), (1, 4.3, 3.0, 1.1, 0.1), (1, 5.8, 4.0, 1.2, 0.2), (1, 5.7, 4.4, 1.5, 0.4), (1, 5.4, 3.9, 1.3, 0.4), (1, 5.1, 3.5, 1.4, 0.3), (1, 5.7, 3.8, 1.7, 0.3), (1, 5.1, 3.8, 1.5, 0.3), (1, 5.4, 3.4, 1.7, 0.2), (1, 5.1, 3.7, 1.5, 0.4), (1, 4.6, 3.6, 1.0, 0.2), (1, 5.1, 3.3, 1.7, 0.5), (1, 4.8, 3.4, 1.9, 0.2), (1, 5.0, 3.0, 1.6, 0.2), (1, 5.0, 3.4, 1.6, 0.4), (1, 5.2, 3.5, 1.5, 0.2), (1, 5.2, 3.4, 1.4, 0.2), (1, 4.7, 3.2, 1.6, 0.2), (1, 4.8, 3.1, 1.6, 0.2), (1, 5.4, 3.4, 1.5, 0.4), (1, 5.2, 4.1, 1.5, 0.1), (1, 5.5, 4.2, 1.4, 0.2), (1, 4.9, 3.1, 1.5, 0.1), (1, 5.0, 3.2, 1.2, 0.2), (1, 5.5, 3.5, 1.3, 0.2), (1, 4.9, 3.1, 1.5, 0.1), (1, 4.4, 3.0, 1.3, 0.2), (1, 5.1, 3.4, 1.5, 0.2), (1, 5.0, 3.5, 1.3, 0.3), (1, 4.5, 2.3, 1.3, 0.3), (1, 4.4, 3.2, 1.3, 0.2), (1, 5.0, 3.5, 1.6, 0.6), (1, 5.1, 3.8, 1.9, 0.4), (1, 4.8, 3.0, 1.4, 0.3), (1, 5.1, 3.8, 1.6, 0.2), (1, 4.6, 3.2, 1.4, 0.2), (1, 5.3, 3.7, 1.5, 0.2), (1, 5.0, 3.3, 1.4, 0.2), (1, 7.0, 3.2, 4.7, 1.4), (1, 6.4, 3.2, 4.5, 1.5), (1, 6.9, 3.1, 4.9, 1.5), (1, 5.5, 2.3, 4.0, 1.3), (1, 6.5, 2.8, 4.6, 1.5), (1, 5.7, 2.8, 4.5, 1.3), (1, 6.3, 3.3, 4.7, 1.6), (1, 4.9, 2.4, 3.3, 1.0), (1, 6.6, 2.9, 4.6, 1.3), (1, 5.2, 2.7, 3.9, 1.4), (1, 5.0, 2.0, 3.5, 1.0), (1, 5.9, 3.0, 4.2, 1.5), (1, 6.0, 2.2, 4.0, 1.0), (1, 6.1, 2.9, 4.7, 1.4), (1, 5.6, 2.9, 3.6, 1.3), (1, 6.7, 3.1, 4.4, 1.4), (1, 5.6, 3.0, 4.5, 1.5), (1, 5.8, 2.7, 4.1, 1.0), (1, 6.2, 2.2, 4.5, 1.5), (1, 5.6, 2.5, 3.9, 1.1), (1, 5.9, 3.2, 4.8, 1.8), (1, 6.1, 2.8, 4.0, 1.3), (1, 6.3, 2.5, 4.9, 1.5), (1, 6.1, 2.8, 4.7, 1.2), (1, 6.4, 2.9, 4.3, 1.3), (1, 6.6, 3.0, 4.4, 1.4), (1, 6.8, 2.8, 4.8, 1.4), (1, 6.7, 3.0, 5.0, 1.7), (1, 6.0, 2.9, 4.5, 1.5), (1, 5.7, 2.6, 3.5, 1.0), (1, 5.5, 2.4, 3.8, 1.1), (1, 5.5, 2.4, 3.7, 1.0), (1, 5.8, 2.7, 3.9, 1.2), (1, 6.0, 2.7, 5.1, 1.6), (1, 5.4, 3.0, 4.5, 1.5), (1, 6.0, 3.4, 4.5, 1.6), (1, 6.7, 3.1, 4.7, 1.5), (1, 6.3, 2.3, 4.4, 1.3), (1, 5.6, 3.0, 4.1, 1.3), (1, 5.5, 2.5, 4.0, 1.3), (1, 5.5, 2.6, 4.4, 1.2), (1, 6.1, 3.0, 4.6, 1.4), (1, 5.8, 2.6, 4.0, 1.2), (1, 5.0, 2.3, 3.3, 1.0), (1, 5.6, 2.7, 4.2, 1.3), (1, 5.7, 3.0, 4.2, 1.2), (1, 5.7, 2.9, 4.2, 1.3), (1, 6.2, 2.9, 4.3, 1.3), (1, 5.1, 2.5, 3.0, 1.1), (1, 5.7, 2.8, 4.1, 1.3), (1, 6.3, 3.3, 6.0, 2.5), (1, 5.8, 2.7, 5.1, 1.9), (1, 7.1, 3.0, 5.9, 2.1), (1, 6.3, 2.9, 5.6, 1.8), (1, 6.5, 3.0, 5.8, 2.2), (1, 7.6, 3.0, 6.6, 2.1), (1, 4.9, 2.5, 4.5, 1.7), (1, 7.3, 2.9, 6.3, 1.8), (1, 6.7, 2.5, 5.8, 1.8), (1, 7.2, 3.6, 6.1, 2.5), (1, 6.5, 3.2, 5.1, 2.0), (1, 6.4, 2.7, 5.3, 1.9), (1, 6.8, 3.0, 5.5, 2.1), (1, 5.7, 2.5, 5.0, 2.0), (1, 5.8, 2.8, 5.1, 2.4), (1, 6.4, 3.2, 5.3, 2.3), (1, 6.5, 3.0, 5.5, 1.8), (1, 7.7, 3.8, 6.7, 2.2), (1, 7.7, 2.6, 6.9, 2.3), (1, 6.0, 2.2, 5.0, 1.5), (1, 6.9, 3.2, 5.7, 2.3), (1, 5.6, 2.8, 4.9, 2.0), (1, 7.7, 2.8, 6.7, 2.0), (1, 6.3, 2.7, 4.9, 1.8), (1, 6.7, 3.3, 5.7, 2.1), (1, 7.2, 3.2, 6.0, 1.8), (1, 6.2, 2.8, 4.8, 1.8), (1, 6.1, 3.0, 4.9, 1.8), (1, 6.4, 2.8, 5.6, 2.1), (1, 7.2, 3.0, 5.8, 1.6), (1, 7.4, 2.8, 6.1, 1.9), (1, 7.9, 3.8, 6.4, 2.0), (1, 6.4, 2.8, 5.6, 2.2), (1, 6.3, 2.8, 5.1, 1.5), (1, 6.1, 2.6, 5.6, 1.4), (1, 7.7, 3.0, 6.1, 2.3), (1, 6.3, 3.4, 5.6, 2.4), (1, 6.4, 3.1, 5.5, 1.8), (1, 6.0, 3.0, 4.8, 1.8), (1, 6.9, 3.1, 5.4, 2.1), (1, 6.7, 3.1, 5.6, 2.4), (1, 6.9, 3.1, 5.1, 2.3), (1, 5.8, 2.7, 5.1, 1.9), (1, 6.8, 3.2, 5.9, 2.3), (1, 6.7, 3.3, 5.7, 2.5), (1, 6.7, 3.0, 5.2, 2.3), (1, 6.3, 2.5, 5.0, 1.9), (1, 6.5, 3.0, 5.2, 2.0), (1, 6.2, 3.4, 5.4, 2.3), (1, 5.9, 3.0, 5.1, 1.8)]\n",
            "['Iris-setosa', 'Iris-setosa', 'Iris-setosa', 'Iris-setosa', 'Iris-setosa', 'Iris-setosa', 'Iris-setosa', 'Iris-setosa', 'Iris-setosa', 'Iris-setosa', 'Iris-setosa', 'Iris-setosa', 'Iris-setosa', 'Iris-setosa', 'Iris-setosa', 'Iris-setosa', 'Iris-setosa', 'Iris-setosa', 'Iris-setosa', 'Iris-setosa', 'Iris-setosa', 'Iris-setosa', 'Iris-setosa', 'Iris-setosa', 'Iris-setosa', 'Iris-setosa', 'Iris-setosa', 'Iris-setosa', 'Iris-setosa', 'Iris-setosa', 'Iris-setosa', 'Iris-setosa', 'Iris-setosa', 'Iris-setosa', 'Iris-setosa', 'Iris-setosa', 'Iris-setosa', 'Iris-setosa', 'Iris-setosa', 'Iris-setosa', 'Iris-setosa', 'Iris-setosa', 'Iris-setosa', 'Iris-setosa', 'Iris-setosa', 'Iris-setosa', 'Iris-setosa', 'Iris-setosa', 'Iris-setosa', 'Iris-setosa', 'Iris-versicolor', 'Iris-versicolor', 'Iris-versicolor', 'Iris-versicolor', 'Iris-versicolor', 'Iris-versicolor', 'Iris-versicolor', 'Iris-versicolor', 'Iris-versicolor', 'Iris-versicolor', 'Iris-versicolor', 'Iris-versicolor', 'Iris-versicolor', 'Iris-versicolor', 'Iris-versicolor', 'Iris-versicolor', 'Iris-versicolor', 'Iris-versicolor', 'Iris-versicolor', 'Iris-versicolor', 'Iris-versicolor', 'Iris-versicolor', 'Iris-versicolor', 'Iris-versicolor', 'Iris-versicolor', 'Iris-versicolor', 'Iris-versicolor', 'Iris-versicolor', 'Iris-versicolor', 'Iris-versicolor', 'Iris-versicolor', 'Iris-versicolor', 'Iris-versicolor', 'Iris-versicolor', 'Iris-versicolor', 'Iris-versicolor', 'Iris-versicolor', 'Iris-versicolor', 'Iris-versicolor', 'Iris-versicolor', 'Iris-versicolor', 'Iris-versicolor', 'Iris-versicolor', 'Iris-versicolor', 'Iris-versicolor', 'Iris-versicolor', 'Iris-versicolor', 'Iris-versicolor', 'Iris-versicolor', 'Iris-versicolor', 'Iris-virginica', 'Iris-virginica', 'Iris-virginica', 'Iris-virginica', 'Iris-virginica', 'Iris-virginica', 'Iris-virginica', 'Iris-virginica', 'Iris-virginica', 'Iris-virginica', 'Iris-virginica', 'Iris-virginica', 'Iris-virginica', 'Iris-virginica', 'Iris-virginica', 'Iris-virginica', 'Iris-virginica', 'Iris-virginica', 'Iris-virginica', 'Iris-virginica', 'Iris-virginica', 'Iris-virginica', 'Iris-virginica', 'Iris-virginica', 'Iris-virginica', 'Iris-virginica', 'Iris-virginica', 'Iris-virginica', 'Iris-virginica', 'Iris-virginica', 'Iris-virginica', 'Iris-virginica', 'Iris-virginica', 'Iris-virginica', 'Iris-virginica', 'Iris-virginica', 'Iris-virginica', 'Iris-virginica', 'Iris-virginica', 'Iris-virginica', 'Iris-virginica', 'Iris-virginica', 'Iris-virginica', 'Iris-virginica', 'Iris-virginica', 'Iris-virginica', 'Iris-virginica', 'Iris-virginica', 'Iris-virginica', 'Iris-virginica']\n"
          ]
        }
      ]
    },
    {
      "cell_type": "code",
      "metadata": {
        "id": "Zh_CRCSzQAa9"
      },
      "source": [
        "from sklearn.datasets import make_classification\n",
        "from sklearn.metrics import mean_squared_error\n",
        "from sklearn.metrics import classification_report, confusion_matrix"
      ],
      "execution_count": null,
      "outputs": []
    },
    {
      "cell_type": "code",
      "metadata": {
        "colab": {
          "base_uri": "https://localhost:8080/"
        },
        "id": "RsZbamfnQUzd",
        "outputId": "f65dc49c-4dd4-4521-d832-b8cebb2bea18"
      },
      "source": [
        "#Mean Squared Error for Logistic Regression\n",
        "MeanSqrErr = LogisticRegression(solver='liblinear', C = 10, random_state=0)\n",
        "MeanSqrErr.fit(X,Y)\n",
        "MeanSqrErr.predict_log_proba(X)"
      ],
      "execution_count": null,
      "outputs": [
        {
          "output_type": "execute_result",
          "data": {
            "text/plain": [
              "array([[-9.16096951e-02, -2.43567336e+00, -2.27010311e+01],\n",
              "       [-2.39395118e-01, -1.54695066e+00, -2.08877520e+01],\n",
              "       [-1.55431959e-01, -1.93825676e+00, -2.13097960e+01],\n",
              "       [-2.19543109e-01, -1.62397074e+00, -1.99385531e+01],\n",
              "       [-7.37831414e-02, -2.64328976e+00, -2.27139494e+01],\n",
              "       [-3.20799392e-02, -3.45552149e+00, -2.21154814e+01],\n",
              "       [-9.32759229e-02, -2.41846875e+00, -2.05611554e+01],\n",
              "       [-1.24148095e-01, -2.14771205e+00, -2.17438294e+01],\n",
              "       [-2.81901774e-01, -1.40383849e+00, -1.93490934e+01],\n",
              "       [-2.55140278e-01, -1.49080103e+00, -2.13124554e+01],\n",
              "       [-6.46943052e-02, -2.77025487e+00, -2.35822546e+01],\n",
              "       [-1.36291754e-01, -2.06032947e+00, -2.07963066e+01],\n",
              "       [-2.77955031e-01, -1.41605640e+00, -2.12317562e+01],\n",
              "       [-2.26681676e-01, -1.59540929e+00, -2.12208595e+01],\n",
              "       [-2.34227054e-02, -3.76573790e+00, -2.67646015e+01],\n",
              "       [-7.67528338e-03, -4.87358525e+00, -2.51921676e+01],\n",
              "       [-2.10250958e-02, -3.87253265e+00, -2.38748837e+01],\n",
              "       [-7.43240850e-02, -2.63625211e+00, -2.21207784e+01],\n",
              "       [-5.04036275e-02, -3.01278810e+00, -2.31818155e+01],\n",
              "       [-4.15182913e-02, -3.20230852e+00, -2.25111641e+01],\n",
              "       [-1.47277888e-01, -1.98816941e+00, -2.19118771e+01],\n",
              "       [-4.19184053e-02, -3.19291628e+00, -2.16599374e+01],\n",
              "       [-4.98503345e-02, -3.02355170e+00, -2.34285816e+01],\n",
              "       [-1.01580535e-01, -2.33726376e+00, -1.91093465e+01],\n",
              "       [-1.77112993e-01, -1.81821719e+00, -1.95011584e+01],\n",
              "       [-2.75450010e-01, -1.42391476e+00, -2.02920512e+01],\n",
              "       [-9.13505027e-02, -2.43837908e+00, -2.01404472e+01],\n",
              "       [-1.00518462e-01, -2.34725213e+00, -2.25249741e+01],\n",
              "       [-1.12945787e-01, -2.23678876e+00, -2.26915776e+01],\n",
              "       [-1.99227158e-01, -1.71126994e+00, -2.00215659e+01],\n",
              "       [-2.36020137e-01, -1.55952824e+00, -2.00263886e+01],\n",
              "       [-8.22676238e-02, -2.53862948e+00, -2.16074761e+01],\n",
              "       [-3.21615914e-02, -3.45302005e+00, -2.47507058e+01],\n",
              "       [-1.80006690e-02, -4.02633319e+00, -2.56779166e+01],\n",
              "       [-2.55140278e-01, -1.49080103e+00, -2.13124554e+01],\n",
              "       [-1.41901720e-01, -2.02273257e+00, -2.25130221e+01],\n",
              "       [-8.26694113e-02, -2.53395558e+00, -2.41661722e+01],\n",
              "       [-2.55140278e-01, -1.49080103e+00, -2.13124554e+01],\n",
              "       [-2.24027321e-01, -1.60591063e+00, -2.00259191e+01],\n",
              "       [-1.23933365e-01, -2.14933803e+00, -2.20015866e+01],\n",
              "       [-6.74715785e-02, -2.72959495e+00, -2.22988228e+01],\n",
              "       [-4.79513265e-01, -9.65178146e-01, -1.79355162e+01],\n",
              "       [-1.56202339e-01, -1.93368782e+00, -2.05366252e+01],\n",
              "       [-4.75679819e-02, -3.06928520e+00, -1.92589356e+01],\n",
              "       [-5.02565881e-02, -3.01563673e+00, -2.01830350e+01],\n",
              "       [-2.04249418e-01, -1.68880048e+00, -2.00307142e+01],\n",
              "       [-5.73498803e-02, -2.88712243e+00, -2.26471828e+01],\n",
              "       [-1.69415150e-01, -1.85891504e+00, -2.06223140e+01],\n",
              "       [-6.48108211e-02, -2.76851310e+00, -2.33245052e+01],\n",
              "       [-1.38786307e-01, -2.04341061e+00, -2.19127548e+01],\n",
              "       [-5.48989339e+00, -1.98985392e-02, -4.16217903e+00],\n",
              "       [-5.04269935e+00, -7.79680627e-02, -2.68019574e+00],\n",
              "       [-6.85739878e+00, -9.36617014e-02, -2.42636315e+00],\n",
              "       [-6.69039507e+00, -1.01619032e-01, -2.34984898e+00],\n",
              "       [-6.99100871e+00, -1.23381589e-01, -2.16148856e+00],\n",
              "       [-7.01796581e+00, -1.58533455e-01, -1.92613733e+00],\n",
              "       [-5.76056806e+00, -3.09870418e-01, -1.33442827e+00],\n",
              "       [-3.74817310e+00, -2.75063660e-02, -5.63497656e+00],\n",
              "       [-6.40247617e+00, -2.43659954e-02, -3.79806537e+00],\n",
              "       [-5.25965373e+00, -1.43100450e-01, -2.05466395e+00],\n",
              "       [-5.52765117e+00, -2.02091485e-02, -4.13323113e+00],\n",
              "       [-4.90534736e+00, -1.11542355e-01, -2.32136407e+00],\n",
              "       [-6.22443793e+00, -8.35822913e-03, -5.06040980e+00],\n",
              "       [-7.32680445e+00, -1.97946303e-01, -1.72076943e+00],\n",
              "       [-2.90643372e+00, -6.32480943e-02, -5.01779717e+00],\n",
              "       [-4.79302984e+00, -2.10924384e-02, -4.37531016e+00],\n",
              "       [-6.72052736e+00, -4.63590939e-01, -9.94865195e-01],\n",
              "       [-5.34790671e+00, -9.78158407e-03, -5.30316925e+00],\n",
              "       [-8.89827533e+00, -3.60127196e-01, -1.19641548e+00],\n",
              "       [-5.39204607e+00, -1.51779238e-02, -4.55536426e+00],\n",
              "       [-7.96171186e+00, -1.47050374e+00, -2.61570303e-01],\n",
              "       [-4.61465024e+00, -1.96482701e-02, -4.65112477e+00],\n",
              "       [-9.65512264e+00, -5.21249925e-01, -9.01013039e-01],\n",
              "       [-7.40262063e+00, -7.22582049e-02, -2.67220507e+00],\n",
              "       [-5.29971641e+00, -1.70867916e-02, -4.42713860e+00],\n",
              "       [-5.24576365e+00, -2.37953287e-02, -4.00388305e+00],\n",
              "       [-7.50780360e+00, -6.66659931e-02, -2.74975384e+00],\n",
              "       [-8.30921276e+00, -6.06969303e-01, -7.87999405e-01],\n",
              "       [-6.63226272e+00, -2.37350291e-01, -1.56080080e+00],\n",
              "       [-3.42602214e+00, -3.37661452e-02, -7.28404496e+00],\n",
              "       [-5.36609915e+00, -1.59734945e-02, -4.49414120e+00],\n",
              "       [-4.88710548e+00, -1.16016305e-02, -5.52362171e+00],\n",
              "       [-4.70540620e+00, -1.74698221e-02, -4.79489460e+00],\n",
              "       [-1.04242812e+01, -8.65005926e-01, -5.46588838e-01],\n",
              "       [-7.00546646e+00, -6.26449538e-01, -7.66563435e-01],\n",
              "       [-4.63874687e+00, -3.20203493e-01, -1.33056109e+00],\n",
              "       [-6.12006137e+00, -7.74959698e-02, -2.62595065e+00],\n",
              "       [-7.67968307e+00, -7.04932201e-02, -2.69409078e+00],\n",
              "       [-4.61291920e+00, -4.79572230e-02, -3.29947244e+00],\n",
              "       [-6.05291768e+00, -7.22494276e-02, -2.69784966e+00],\n",
              "       [-7.27794147e+00, -1.37755857e-01, -2.05574061e+00],\n",
              "       [-6.48945624e+00, -1.28593489e-01, -2.12737816e+00],\n",
              "       [-5.43233623e+00, -1.91519285e-02, -4.22695105e+00],\n",
              "       [-3.97986084e+00, -2.23610912e-02, -5.67674275e+00],\n",
              "       [-6.14217877e+00, -8.41625354e-02, -2.54379157e+00],\n",
              "       [-4.93733582e+00, -2.84239790e-02, -3.87039495e+00],\n",
              "       [-5.34973123e+00, -5.29472740e-02, -3.06143297e+00],\n",
              "       [-5.42852112e+00, -2.44345650e-02, -3.92465875e+00],\n",
              "       [-2.27997729e+00, -1.09002113e-01, -6.92292148e+00],\n",
              "       [-5.29108038e+00, -4.35518972e-02, -3.28126156e+00],\n",
              "       [-1.32427694e+01, -2.42107909e+00, -9.30230342e-02],\n",
              "       [-1.10067157e+01, -1.18574910e+00, -3.64611816e-01],\n",
              "       [-1.26251015e+01, -1.35505761e+00, -2.98319412e-01],\n",
              "       [-1.18950133e+01, -1.08066349e+00, -4.14572112e-01],\n",
              "       [-1.27496359e+01, -1.54233109e+00, -2.40651990e-01],\n",
              "       [-1.49097536e+01, -1.06305413e+00, -4.23730366e-01],\n",
              "       [-9.60579063e+00, -1.04703919e+00, -4.32388391e-01],\n",
              "       [-1.38643943e+01, -8.96061792e-01, -5.24544169e-01],\n",
              "       [-1.34189865e+01, -8.27246181e-01, -5.74925537e-01],\n",
              "       [-1.23439799e+01, -2.98050923e+00, -5.21055518e-02],\n",
              "       [-9.19506930e+00, -1.82649333e+00, -1.75638274e-01],\n",
              "       [-1.13694399e+01, -1.09535446e+00, -4.07115352e-01],\n",
              "       [-1.13178773e+01, -1.57051582e+00, -2.33130821e-01],\n",
              "       [-1.13570480e+01, -1.13805600e+00, -3.86328942e-01],\n",
              "       [-1.13899561e+01, -2.02589236e+00, -1.41433870e-01],\n",
              "       [-1.06146310e+01, -2.43935160e+00, -9.12844269e-02],\n",
              "       [-1.10971821e+01, -1.17059733e+00, -3.71348882e-01],\n",
              "       [-1.32679593e+01, -2.23852427e+00, -1.12740407e-01],\n",
              "       [-1.72297324e+01, -8.70232664e-01, -5.42753467e-01],\n",
              "       [-1.12131414e+01, -7.09001351e-01, -6.77567021e-01],\n",
              "       [-1.17593756e+01, -2.10559503e+00, -1.29859297e-01],\n",
              "       [-1.02466733e+01, -1.52245659e+00, -2.46170059e-01],\n",
              "       [-1.56015059e+01, -8.69061651e-01, -5.43598544e-01],\n",
              "       [-9.66952592e+00, -1.00230018e+00, -4.57438744e-01],\n",
              "       [-1.13459808e+01, -1.91986185e+00, -1.58572649e-01],\n",
              "       [-1.19787168e+01, -1.14455019e+00, -3.83273230e-01],\n",
              "       [-8.98905710e+00, -1.05015227e+00, -4.30797126e-01],\n",
              "       [-8.89922025e+00, -1.26136373e+00, -3.33242997e-01],\n",
              "       [-1.24761316e+01, -1.27725454e+00, -3.26846422e-01],\n",
              "       [-1.13743709e+01, -7.51635221e-01, -6.37913528e-01],\n",
              "       [-1.34564892e+01, -9.36561109e-01, -4.97539126e-01],\n",
              "       [-1.16318103e+01, -1.96682118e+00, -1.50717953e-01],\n",
              "       [-1.25988530e+01, -1.39184217e+00, -2.85844115e-01],\n",
              "       [-9.59210505e+00, -6.01511299e-01, -7.94186179e-01],\n",
              "       [-1.22248408e+01, -7.46505254e-01, -6.42501879e-01],\n",
              "       [-1.32479801e+01, -1.49978517e+00, -2.52546442e-01],\n",
              "       [-1.14275866e+01, -2.79886750e+00, -6.28225114e-02],\n",
              "       [-1.08885232e+01, -1.27622192e+00, -3.27266508e-01],\n",
              "       [-8.54131187e+00, -1.27310511e+00, -3.28721028e-01],\n",
              "       [-1.05849245e+01, -1.74868563e+00, -1.91194151e-01],\n",
              "       [-1.19092030e+01, -2.18554358e+00, -1.19260382e-01],\n",
              "       [-9.75008999e+00, -2.33320038e+00, -1.02080512e-01],\n",
              "       [-1.10067157e+01, -1.18574910e+00, -3.64611816e-01],\n",
              "       [-1.25497934e+01, -1.94965713e+00, -1.53531679e-01],\n",
              "       [-1.19287046e+01, -2.70255341e+00, -6.93937304e-02],\n",
              "       [-1.05491071e+01, -2.12068118e+00, -1.27806225e-01],\n",
              "       [-1.08366126e+01, -1.02343477e+00, -4.45315964e-01],\n",
              "       [-1.02164875e+01, -1.56328267e+00, -2.35069329e-01],\n",
              "       [-1.06196249e+01, -2.77148845e+00, -6.46379783e-02],\n",
              "       [-9.96521534e+00, -1.35052732e+00, -2.99957914e-01]])"
            ]
          },
          "metadata": {},
          "execution_count": 51
        }
      ]
    },
    {
      "cell_type": "code",
      "metadata": {
        "colab": {
          "base_uri": "https://localhost:8080/"
        },
        "id": "9jeqHsiojlds",
        "outputId": "a6db6461-b9db-4b68-9070-aceca0dff843"
      },
      "source": [
        "#coefficient \n",
        "MeanSqrErr.coef_"
      ],
      "execution_count": null,
      "outputs": [
        {
          "output_type": "execute_result",
          "data": {
            "text/plain": [
              "array([[ 0.38907634,  0.5979353 ,  2.21689516, -3.49506193, -1.61622386],\n",
              "       [ 2.74232116, -0.01905451, -2.48224581,  1.09480074, -2.38711879],\n",
              "       [-3.3451215 , -2.57785818, -2.88275234,  4.42177611,  5.62667468]])"
            ]
          },
          "metadata": {},
          "execution_count": 52
        }
      ]
    },
    {
      "cell_type": "code",
      "metadata": {
        "colab": {
          "base_uri": "https://localhost:8080/"
        },
        "id": "xGe-QlVVjnc_",
        "outputId": "25314291-bd5f-4730-ec75-af5568d090a2"
      },
      "source": [
        "#predicting the target \n",
        "MeanSqrErr.predict(X)"
      ],
      "execution_count": null,
      "outputs": [
        {
          "output_type": "execute_result",
          "data": {
            "text/plain": [
              "array(['Iris-setosa', 'Iris-setosa', 'Iris-setosa', 'Iris-setosa',\n",
              "       'Iris-setosa', 'Iris-setosa', 'Iris-setosa', 'Iris-setosa',\n",
              "       'Iris-setosa', 'Iris-setosa', 'Iris-setosa', 'Iris-setosa',\n",
              "       'Iris-setosa', 'Iris-setosa', 'Iris-setosa', 'Iris-setosa',\n",
              "       'Iris-setosa', 'Iris-setosa', 'Iris-setosa', 'Iris-setosa',\n",
              "       'Iris-setosa', 'Iris-setosa', 'Iris-setosa', 'Iris-setosa',\n",
              "       'Iris-setosa', 'Iris-setosa', 'Iris-setosa', 'Iris-setosa',\n",
              "       'Iris-setosa', 'Iris-setosa', 'Iris-setosa', 'Iris-setosa',\n",
              "       'Iris-setosa', 'Iris-setosa', 'Iris-setosa', 'Iris-setosa',\n",
              "       'Iris-setosa', 'Iris-setosa', 'Iris-setosa', 'Iris-setosa',\n",
              "       'Iris-setosa', 'Iris-setosa', 'Iris-setosa', 'Iris-setosa',\n",
              "       'Iris-setosa', 'Iris-setosa', 'Iris-setosa', 'Iris-setosa',\n",
              "       'Iris-setosa', 'Iris-setosa', 'Iris-versicolor', 'Iris-versicolor',\n",
              "       'Iris-versicolor', 'Iris-versicolor', 'Iris-versicolor',\n",
              "       'Iris-versicolor', 'Iris-versicolor', 'Iris-versicolor',\n",
              "       'Iris-versicolor', 'Iris-versicolor', 'Iris-versicolor',\n",
              "       'Iris-versicolor', 'Iris-versicolor', 'Iris-versicolor',\n",
              "       'Iris-versicolor', 'Iris-versicolor', 'Iris-versicolor',\n",
              "       'Iris-versicolor', 'Iris-versicolor', 'Iris-versicolor',\n",
              "       'Iris-virginica', 'Iris-versicolor', 'Iris-versicolor',\n",
              "       'Iris-versicolor', 'Iris-versicolor', 'Iris-versicolor',\n",
              "       'Iris-versicolor', 'Iris-versicolor', 'Iris-versicolor',\n",
              "       'Iris-versicolor', 'Iris-versicolor', 'Iris-versicolor',\n",
              "       'Iris-versicolor', 'Iris-virginica', 'Iris-versicolor',\n",
              "       'Iris-versicolor', 'Iris-versicolor', 'Iris-versicolor',\n",
              "       'Iris-versicolor', 'Iris-versicolor', 'Iris-versicolor',\n",
              "       'Iris-versicolor', 'Iris-versicolor', 'Iris-versicolor',\n",
              "       'Iris-versicolor', 'Iris-versicolor', 'Iris-versicolor',\n",
              "       'Iris-versicolor', 'Iris-versicolor', 'Iris-versicolor',\n",
              "       'Iris-virginica', 'Iris-virginica', 'Iris-virginica',\n",
              "       'Iris-virginica', 'Iris-virginica', 'Iris-virginica',\n",
              "       'Iris-virginica', 'Iris-virginica', 'Iris-virginica',\n",
              "       'Iris-virginica', 'Iris-virginica', 'Iris-virginica',\n",
              "       'Iris-virginica', 'Iris-virginica', 'Iris-virginica',\n",
              "       'Iris-virginica', 'Iris-virginica', 'Iris-virginica',\n",
              "       'Iris-virginica', 'Iris-virginica', 'Iris-virginica',\n",
              "       'Iris-virginica', 'Iris-virginica', 'Iris-virginica',\n",
              "       'Iris-virginica', 'Iris-virginica', 'Iris-virginica',\n",
              "       'Iris-virginica', 'Iris-virginica', 'Iris-virginica',\n",
              "       'Iris-virginica', 'Iris-virginica', 'Iris-virginica',\n",
              "       'Iris-versicolor', 'Iris-virginica', 'Iris-virginica',\n",
              "       'Iris-virginica', 'Iris-virginica', 'Iris-virginica',\n",
              "       'Iris-virginica', 'Iris-virginica', 'Iris-virginica',\n",
              "       'Iris-virginica', 'Iris-virginica', 'Iris-virginica',\n",
              "       'Iris-virginica', 'Iris-virginica', 'Iris-virginica',\n",
              "       'Iris-virginica', 'Iris-virginica'], dtype='<U15')"
            ]
          },
          "metadata": {},
          "execution_count": 53
        }
      ]
    },
    {
      "cell_type": "code",
      "metadata": {
        "colab": {
          "base_uri": "https://localhost:8080/"
        },
        "id": "ttxIKCAqjqGX",
        "outputId": "fea5f14f-8352-4ea7-e345-45dfa2b90d41"
      },
      "source": [
        "#confusion matrix\n",
        "confusion_matrix(Y, MeanSqrErr.predict(X))"
      ],
      "execution_count": null,
      "outputs": [
        {
          "output_type": "execute_result",
          "data": {
            "text/plain": [
              "array([[50,  0,  0],\n",
              "       [ 0, 48,  2],\n",
              "       [ 0,  1, 49]])"
            ]
          },
          "metadata": {},
          "execution_count": 54
        }
      ]
    }
  ]
}