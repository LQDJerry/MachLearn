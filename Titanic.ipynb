{
  "nbformat": 4,
  "nbformat_minor": 0,
  "metadata": {
    "colab": {
      "name": "Titanic.ipynb",
      "provenance": [],
      "collapsed_sections": [],
      "authorship_tag": "ABX9TyNLlCvrmQ1O4675d3a1qy7a",
      "include_colab_link": true
    },
    "kernelspec": {
      "name": "python3",
      "display_name": "Python 3"
    },
    "language_info": {
      "name": "python"
    }
  },
  "cells": [
    {
      "cell_type": "markdown",
      "metadata": {
        "id": "view-in-github",
        "colab_type": "text"
      },
      "source": [
        "<a href=\"https://colab.research.google.com/github/LQDJerry/MachLearn/blob/main/Titanic.ipynb\" target=\"_parent\"><img src=\"https://colab.research.google.com/assets/colab-badge.svg\" alt=\"Open In Colab\"/></a>"
      ]
    },
    {
      "cell_type": "markdown",
      "metadata": {
        "id": "Yg71DZb0ApVo"
      },
      "source": [
        "Import libraries"
      ]
    },
    {
      "cell_type": "code",
      "metadata": {
        "id": "NscFY8TH5Qu1"
      },
      "source": [
        "import numpy as np \n",
        "import pandas as pd \n",
        "import matplotlib.pyplot as plt \n",
        "from sklearn.impute import SimpleImputer\n",
        "from sklearn.linear_model import LogisticRegression\n",
        "from sklearn.neural_network import MLPClassifier\n",
        "from sklearn.metrics import accuracy_score\n",
        "from sklearn.model_selection import train_test_split"
      ],
      "execution_count": 127,
      "outputs": []
    },
    {
      "cell_type": "markdown",
      "metadata": {
        "id": "kg0A4KVTAtW7"
      },
      "source": [
        "Import data from csv files"
      ]
    },
    {
      "cell_type": "code",
      "metadata": {
        "id": "l6Rzs52nAws0"
      },
      "source": [
        "train =  pd.read_csv(\"https://github.com/LQDJerry/MachLearn/raw/main/TitanicTrain.csv\")\n",
        "test = pd.read_csv(\"https://github.com/LQDJerry/MachLearn/raw/main/TitanicTest.csv\")\n",
        "gSub = pd.read_csv(\"https://github.com/LQDJerry/MachLearn/raw/main/gender_submission.csv\")"
      ],
      "execution_count": 128,
      "outputs": []
    },
    {
      "cell_type": "markdown",
      "metadata": {
        "id": "EXXZ7sB2BZaX"
      },
      "source": [
        "Print info from imported data"
      ]
    },
    {
      "cell_type": "code",
      "source": [
        "train\n"
      ],
      "metadata": {
        "colab": {
          "base_uri": "https://localhost:8080/",
          "height": 424
        },
        "id": "88H0bYyyN3qo",
        "outputId": "cb530166-0a32-431c-d26b-82a44dae3d9c"
      },
      "execution_count": 129,
      "outputs": [
        {
          "output_type": "execute_result",
          "data": {
            "text/html": [
              "<div>\n",
              "<style scoped>\n",
              "    .dataframe tbody tr th:only-of-type {\n",
              "        vertical-align: middle;\n",
              "    }\n",
              "\n",
              "    .dataframe tbody tr th {\n",
              "        vertical-align: top;\n",
              "    }\n",
              "\n",
              "    .dataframe thead th {\n",
              "        text-align: right;\n",
              "    }\n",
              "</style>\n",
              "<table border=\"1\" class=\"dataframe\">\n",
              "  <thead>\n",
              "    <tr style=\"text-align: right;\">\n",
              "      <th></th>\n",
              "      <th>PassengerId</th>\n",
              "      <th>Survived</th>\n",
              "      <th>Pclass</th>\n",
              "      <th>Name</th>\n",
              "      <th>Sex</th>\n",
              "      <th>Age</th>\n",
              "      <th>SibSp</th>\n",
              "      <th>Parch</th>\n",
              "      <th>Ticket</th>\n",
              "      <th>Fare</th>\n",
              "      <th>Cabin</th>\n",
              "      <th>Embarked</th>\n",
              "    </tr>\n",
              "  </thead>\n",
              "  <tbody>\n",
              "    <tr>\n",
              "      <th>0</th>\n",
              "      <td>1</td>\n",
              "      <td>0</td>\n",
              "      <td>3</td>\n",
              "      <td>Braund, Mr. Owen Harris</td>\n",
              "      <td>male</td>\n",
              "      <td>22.0</td>\n",
              "      <td>1</td>\n",
              "      <td>0</td>\n",
              "      <td>A/5 21171</td>\n",
              "      <td>7.2500</td>\n",
              "      <td>NaN</td>\n",
              "      <td>S</td>\n",
              "    </tr>\n",
              "    <tr>\n",
              "      <th>1</th>\n",
              "      <td>2</td>\n",
              "      <td>1</td>\n",
              "      <td>1</td>\n",
              "      <td>Cumings, Mrs. John Bradley (Florence Briggs Th...</td>\n",
              "      <td>female</td>\n",
              "      <td>38.0</td>\n",
              "      <td>1</td>\n",
              "      <td>0</td>\n",
              "      <td>PC 17599</td>\n",
              "      <td>71.2833</td>\n",
              "      <td>C85</td>\n",
              "      <td>C</td>\n",
              "    </tr>\n",
              "    <tr>\n",
              "      <th>2</th>\n",
              "      <td>3</td>\n",
              "      <td>1</td>\n",
              "      <td>3</td>\n",
              "      <td>Heikkinen, Miss. Laina</td>\n",
              "      <td>female</td>\n",
              "      <td>26.0</td>\n",
              "      <td>0</td>\n",
              "      <td>0</td>\n",
              "      <td>STON/O2. 3101282</td>\n",
              "      <td>7.9250</td>\n",
              "      <td>NaN</td>\n",
              "      <td>S</td>\n",
              "    </tr>\n",
              "    <tr>\n",
              "      <th>3</th>\n",
              "      <td>4</td>\n",
              "      <td>1</td>\n",
              "      <td>1</td>\n",
              "      <td>Futrelle, Mrs. Jacques Heath (Lily May Peel)</td>\n",
              "      <td>female</td>\n",
              "      <td>35.0</td>\n",
              "      <td>1</td>\n",
              "      <td>0</td>\n",
              "      <td>113803</td>\n",
              "      <td>53.1000</td>\n",
              "      <td>C123</td>\n",
              "      <td>S</td>\n",
              "    </tr>\n",
              "    <tr>\n",
              "      <th>4</th>\n",
              "      <td>5</td>\n",
              "      <td>0</td>\n",
              "      <td>3</td>\n",
              "      <td>Allen, Mr. William Henry</td>\n",
              "      <td>male</td>\n",
              "      <td>35.0</td>\n",
              "      <td>0</td>\n",
              "      <td>0</td>\n",
              "      <td>373450</td>\n",
              "      <td>8.0500</td>\n",
              "      <td>NaN</td>\n",
              "      <td>S</td>\n",
              "    </tr>\n",
              "    <tr>\n",
              "      <th>...</th>\n",
              "      <td>...</td>\n",
              "      <td>...</td>\n",
              "      <td>...</td>\n",
              "      <td>...</td>\n",
              "      <td>...</td>\n",
              "      <td>...</td>\n",
              "      <td>...</td>\n",
              "      <td>...</td>\n",
              "      <td>...</td>\n",
              "      <td>...</td>\n",
              "      <td>...</td>\n",
              "      <td>...</td>\n",
              "    </tr>\n",
              "    <tr>\n",
              "      <th>886</th>\n",
              "      <td>887</td>\n",
              "      <td>0</td>\n",
              "      <td>2</td>\n",
              "      <td>Montvila, Rev. Juozas</td>\n",
              "      <td>male</td>\n",
              "      <td>27.0</td>\n",
              "      <td>0</td>\n",
              "      <td>0</td>\n",
              "      <td>211536</td>\n",
              "      <td>13.0000</td>\n",
              "      <td>NaN</td>\n",
              "      <td>S</td>\n",
              "    </tr>\n",
              "    <tr>\n",
              "      <th>887</th>\n",
              "      <td>888</td>\n",
              "      <td>1</td>\n",
              "      <td>1</td>\n",
              "      <td>Graham, Miss. Margaret Edith</td>\n",
              "      <td>female</td>\n",
              "      <td>19.0</td>\n",
              "      <td>0</td>\n",
              "      <td>0</td>\n",
              "      <td>112053</td>\n",
              "      <td>30.0000</td>\n",
              "      <td>B42</td>\n",
              "      <td>S</td>\n",
              "    </tr>\n",
              "    <tr>\n",
              "      <th>888</th>\n",
              "      <td>889</td>\n",
              "      <td>0</td>\n",
              "      <td>3</td>\n",
              "      <td>Johnston, Miss. Catherine Helen \"Carrie\"</td>\n",
              "      <td>female</td>\n",
              "      <td>NaN</td>\n",
              "      <td>1</td>\n",
              "      <td>2</td>\n",
              "      <td>W./C. 6607</td>\n",
              "      <td>23.4500</td>\n",
              "      <td>NaN</td>\n",
              "      <td>S</td>\n",
              "    </tr>\n",
              "    <tr>\n",
              "      <th>889</th>\n",
              "      <td>890</td>\n",
              "      <td>1</td>\n",
              "      <td>1</td>\n",
              "      <td>Behr, Mr. Karl Howell</td>\n",
              "      <td>male</td>\n",
              "      <td>26.0</td>\n",
              "      <td>0</td>\n",
              "      <td>0</td>\n",
              "      <td>111369</td>\n",
              "      <td>30.0000</td>\n",
              "      <td>C148</td>\n",
              "      <td>C</td>\n",
              "    </tr>\n",
              "    <tr>\n",
              "      <th>890</th>\n",
              "      <td>891</td>\n",
              "      <td>0</td>\n",
              "      <td>3</td>\n",
              "      <td>Dooley, Mr. Patrick</td>\n",
              "      <td>male</td>\n",
              "      <td>32.0</td>\n",
              "      <td>0</td>\n",
              "      <td>0</td>\n",
              "      <td>370376</td>\n",
              "      <td>7.7500</td>\n",
              "      <td>NaN</td>\n",
              "      <td>Q</td>\n",
              "    </tr>\n",
              "  </tbody>\n",
              "</table>\n",
              "<p>891 rows × 12 columns</p>\n",
              "</div>"
            ],
            "text/plain": [
              "     PassengerId  Survived  Pclass  ...     Fare Cabin  Embarked\n",
              "0              1         0       3  ...   7.2500   NaN         S\n",
              "1              2         1       1  ...  71.2833   C85         C\n",
              "2              3         1       3  ...   7.9250   NaN         S\n",
              "3              4         1       1  ...  53.1000  C123         S\n",
              "4              5         0       3  ...   8.0500   NaN         S\n",
              "..           ...       ...     ...  ...      ...   ...       ...\n",
              "886          887         0       2  ...  13.0000   NaN         S\n",
              "887          888         1       1  ...  30.0000   B42         S\n",
              "888          889         0       3  ...  23.4500   NaN         S\n",
              "889          890         1       1  ...  30.0000  C148         C\n",
              "890          891         0       3  ...   7.7500   NaN         Q\n",
              "\n",
              "[891 rows x 12 columns]"
            ]
          },
          "metadata": {},
          "execution_count": 129
        }
      ]
    },
    {
      "cell_type": "code",
      "source": [
        "test.describe(include='all')"
      ],
      "metadata": {
        "colab": {
          "base_uri": "https://localhost:8080/",
          "height": 394
        },
        "id": "A6w1dXkROIS0",
        "outputId": "aa047ff0-9522-4d28-9195-4eef0e395d36"
      },
      "execution_count": 130,
      "outputs": [
        {
          "output_type": "execute_result",
          "data": {
            "text/html": [
              "<div>\n",
              "<style scoped>\n",
              "    .dataframe tbody tr th:only-of-type {\n",
              "        vertical-align: middle;\n",
              "    }\n",
              "\n",
              "    .dataframe tbody tr th {\n",
              "        vertical-align: top;\n",
              "    }\n",
              "\n",
              "    .dataframe thead th {\n",
              "        text-align: right;\n",
              "    }\n",
              "</style>\n",
              "<table border=\"1\" class=\"dataframe\">\n",
              "  <thead>\n",
              "    <tr style=\"text-align: right;\">\n",
              "      <th></th>\n",
              "      <th>PassengerId</th>\n",
              "      <th>Pclass</th>\n",
              "      <th>Name</th>\n",
              "      <th>Sex</th>\n",
              "      <th>Age</th>\n",
              "      <th>SibSp</th>\n",
              "      <th>Parch</th>\n",
              "      <th>Ticket</th>\n",
              "      <th>Fare</th>\n",
              "      <th>Cabin</th>\n",
              "      <th>Embarked</th>\n",
              "    </tr>\n",
              "  </thead>\n",
              "  <tbody>\n",
              "    <tr>\n",
              "      <th>count</th>\n",
              "      <td>418.000000</td>\n",
              "      <td>418.000000</td>\n",
              "      <td>418</td>\n",
              "      <td>418</td>\n",
              "      <td>332.000000</td>\n",
              "      <td>418.000000</td>\n",
              "      <td>418.000000</td>\n",
              "      <td>418</td>\n",
              "      <td>417.000000</td>\n",
              "      <td>91</td>\n",
              "      <td>418</td>\n",
              "    </tr>\n",
              "    <tr>\n",
              "      <th>unique</th>\n",
              "      <td>NaN</td>\n",
              "      <td>NaN</td>\n",
              "      <td>418</td>\n",
              "      <td>2</td>\n",
              "      <td>NaN</td>\n",
              "      <td>NaN</td>\n",
              "      <td>NaN</td>\n",
              "      <td>363</td>\n",
              "      <td>NaN</td>\n",
              "      <td>76</td>\n",
              "      <td>3</td>\n",
              "    </tr>\n",
              "    <tr>\n",
              "      <th>top</th>\n",
              "      <td>NaN</td>\n",
              "      <td>NaN</td>\n",
              "      <td>Saether, Mr. Simon Sivertsen</td>\n",
              "      <td>male</td>\n",
              "      <td>NaN</td>\n",
              "      <td>NaN</td>\n",
              "      <td>NaN</td>\n",
              "      <td>PC 17608</td>\n",
              "      <td>NaN</td>\n",
              "      <td>B57 B59 B63 B66</td>\n",
              "      <td>S</td>\n",
              "    </tr>\n",
              "    <tr>\n",
              "      <th>freq</th>\n",
              "      <td>NaN</td>\n",
              "      <td>NaN</td>\n",
              "      <td>1</td>\n",
              "      <td>266</td>\n",
              "      <td>NaN</td>\n",
              "      <td>NaN</td>\n",
              "      <td>NaN</td>\n",
              "      <td>5</td>\n",
              "      <td>NaN</td>\n",
              "      <td>3</td>\n",
              "      <td>270</td>\n",
              "    </tr>\n",
              "    <tr>\n",
              "      <th>mean</th>\n",
              "      <td>1100.500000</td>\n",
              "      <td>2.265550</td>\n",
              "      <td>NaN</td>\n",
              "      <td>NaN</td>\n",
              "      <td>30.272590</td>\n",
              "      <td>0.447368</td>\n",
              "      <td>0.392344</td>\n",
              "      <td>NaN</td>\n",
              "      <td>35.627188</td>\n",
              "      <td>NaN</td>\n",
              "      <td>NaN</td>\n",
              "    </tr>\n",
              "    <tr>\n",
              "      <th>std</th>\n",
              "      <td>120.810458</td>\n",
              "      <td>0.841838</td>\n",
              "      <td>NaN</td>\n",
              "      <td>NaN</td>\n",
              "      <td>14.181209</td>\n",
              "      <td>0.896760</td>\n",
              "      <td>0.981429</td>\n",
              "      <td>NaN</td>\n",
              "      <td>55.907576</td>\n",
              "      <td>NaN</td>\n",
              "      <td>NaN</td>\n",
              "    </tr>\n",
              "    <tr>\n",
              "      <th>min</th>\n",
              "      <td>892.000000</td>\n",
              "      <td>1.000000</td>\n",
              "      <td>NaN</td>\n",
              "      <td>NaN</td>\n",
              "      <td>0.170000</td>\n",
              "      <td>0.000000</td>\n",
              "      <td>0.000000</td>\n",
              "      <td>NaN</td>\n",
              "      <td>0.000000</td>\n",
              "      <td>NaN</td>\n",
              "      <td>NaN</td>\n",
              "    </tr>\n",
              "    <tr>\n",
              "      <th>25%</th>\n",
              "      <td>996.250000</td>\n",
              "      <td>1.000000</td>\n",
              "      <td>NaN</td>\n",
              "      <td>NaN</td>\n",
              "      <td>21.000000</td>\n",
              "      <td>0.000000</td>\n",
              "      <td>0.000000</td>\n",
              "      <td>NaN</td>\n",
              "      <td>7.895800</td>\n",
              "      <td>NaN</td>\n",
              "      <td>NaN</td>\n",
              "    </tr>\n",
              "    <tr>\n",
              "      <th>50%</th>\n",
              "      <td>1100.500000</td>\n",
              "      <td>3.000000</td>\n",
              "      <td>NaN</td>\n",
              "      <td>NaN</td>\n",
              "      <td>27.000000</td>\n",
              "      <td>0.000000</td>\n",
              "      <td>0.000000</td>\n",
              "      <td>NaN</td>\n",
              "      <td>14.454200</td>\n",
              "      <td>NaN</td>\n",
              "      <td>NaN</td>\n",
              "    </tr>\n",
              "    <tr>\n",
              "      <th>75%</th>\n",
              "      <td>1204.750000</td>\n",
              "      <td>3.000000</td>\n",
              "      <td>NaN</td>\n",
              "      <td>NaN</td>\n",
              "      <td>39.000000</td>\n",
              "      <td>1.000000</td>\n",
              "      <td>0.000000</td>\n",
              "      <td>NaN</td>\n",
              "      <td>31.500000</td>\n",
              "      <td>NaN</td>\n",
              "      <td>NaN</td>\n",
              "    </tr>\n",
              "    <tr>\n",
              "      <th>max</th>\n",
              "      <td>1309.000000</td>\n",
              "      <td>3.000000</td>\n",
              "      <td>NaN</td>\n",
              "      <td>NaN</td>\n",
              "      <td>76.000000</td>\n",
              "      <td>8.000000</td>\n",
              "      <td>9.000000</td>\n",
              "      <td>NaN</td>\n",
              "      <td>512.329200</td>\n",
              "      <td>NaN</td>\n",
              "      <td>NaN</td>\n",
              "    </tr>\n",
              "  </tbody>\n",
              "</table>\n",
              "</div>"
            ],
            "text/plain": [
              "        PassengerId      Pclass  ...            Cabin Embarked\n",
              "count    418.000000  418.000000  ...               91      418\n",
              "unique          NaN         NaN  ...               76        3\n",
              "top             NaN         NaN  ...  B57 B59 B63 B66        S\n",
              "freq            NaN         NaN  ...                3      270\n",
              "mean    1100.500000    2.265550  ...              NaN      NaN\n",
              "std      120.810458    0.841838  ...              NaN      NaN\n",
              "min      892.000000    1.000000  ...              NaN      NaN\n",
              "25%      996.250000    1.000000  ...              NaN      NaN\n",
              "50%     1100.500000    3.000000  ...              NaN      NaN\n",
              "75%     1204.750000    3.000000  ...              NaN      NaN\n",
              "max     1309.000000    3.000000  ...              NaN      NaN\n",
              "\n",
              "[11 rows x 11 columns]"
            ]
          },
          "metadata": {},
          "execution_count": 130
        }
      ]
    },
    {
      "cell_type": "code",
      "source": [
        "gSub.describe(include='all')"
      ],
      "metadata": {
        "colab": {
          "base_uri": "https://localhost:8080/",
          "height": 300
        },
        "id": "YmyucXN3ORQk",
        "outputId": "087a015a-2850-4be2-d22d-c5b0d0948d8e"
      },
      "execution_count": 131,
      "outputs": [
        {
          "output_type": "execute_result",
          "data": {
            "text/html": [
              "<div>\n",
              "<style scoped>\n",
              "    .dataframe tbody tr th:only-of-type {\n",
              "        vertical-align: middle;\n",
              "    }\n",
              "\n",
              "    .dataframe tbody tr th {\n",
              "        vertical-align: top;\n",
              "    }\n",
              "\n",
              "    .dataframe thead th {\n",
              "        text-align: right;\n",
              "    }\n",
              "</style>\n",
              "<table border=\"1\" class=\"dataframe\">\n",
              "  <thead>\n",
              "    <tr style=\"text-align: right;\">\n",
              "      <th></th>\n",
              "      <th>PassengerId</th>\n",
              "      <th>Survived</th>\n",
              "    </tr>\n",
              "  </thead>\n",
              "  <tbody>\n",
              "    <tr>\n",
              "      <th>count</th>\n",
              "      <td>418.000000</td>\n",
              "      <td>418.000000</td>\n",
              "    </tr>\n",
              "    <tr>\n",
              "      <th>mean</th>\n",
              "      <td>1100.500000</td>\n",
              "      <td>0.363636</td>\n",
              "    </tr>\n",
              "    <tr>\n",
              "      <th>std</th>\n",
              "      <td>120.810458</td>\n",
              "      <td>0.481622</td>\n",
              "    </tr>\n",
              "    <tr>\n",
              "      <th>min</th>\n",
              "      <td>892.000000</td>\n",
              "      <td>0.000000</td>\n",
              "    </tr>\n",
              "    <tr>\n",
              "      <th>25%</th>\n",
              "      <td>996.250000</td>\n",
              "      <td>0.000000</td>\n",
              "    </tr>\n",
              "    <tr>\n",
              "      <th>50%</th>\n",
              "      <td>1100.500000</td>\n",
              "      <td>0.000000</td>\n",
              "    </tr>\n",
              "    <tr>\n",
              "      <th>75%</th>\n",
              "      <td>1204.750000</td>\n",
              "      <td>1.000000</td>\n",
              "    </tr>\n",
              "    <tr>\n",
              "      <th>max</th>\n",
              "      <td>1309.000000</td>\n",
              "      <td>1.000000</td>\n",
              "    </tr>\n",
              "  </tbody>\n",
              "</table>\n",
              "</div>"
            ],
            "text/plain": [
              "       PassengerId    Survived\n",
              "count   418.000000  418.000000\n",
              "mean   1100.500000    0.363636\n",
              "std     120.810458    0.481622\n",
              "min     892.000000    0.000000\n",
              "25%     996.250000    0.000000\n",
              "50%    1100.500000    0.000000\n",
              "75%    1204.750000    1.000000\n",
              "max    1309.000000    1.000000"
            ]
          },
          "metadata": {},
          "execution_count": 131
        }
      ]
    },
    {
      "cell_type": "markdown",
      "source": [
        "Mapping Sex to 0 an 1"
      ],
      "metadata": {
        "id": "B0XHHVZSOhCb"
      }
    },
    {
      "cell_type": "code",
      "source": [
        "train[\"Sex\"] = train_data[\"Sex\"].map({\"male\":0,\"female\":1})\n",
        "test[\"Sex\"] = test_data[\"Sex\"].map({\"male\":0,\"female\":1})"
      ],
      "metadata": {
        "id": "cgXLhv82Oi-o"
      },
      "execution_count": 132,
      "outputs": []
    },
    {
      "cell_type": "code",
      "source": [
        "train = pd.get_dummies(train, columns=['Embarked'])\n",
        "test = pd.get_dummies(test, columns=['Embarked'])\n"
      ],
      "metadata": {
        "id": "MUPuL924PNIc"
      },
      "execution_count": 133,
      "outputs": []
    },
    {
      "cell_type": "markdown",
      "source": [
        "Dropping Certain Characteristics"
      ],
      "metadata": {
        "id": "4nHzUH18PSfG"
      }
    },
    {
      "cell_type": "markdown",
      "source": [
        "Here I had various characteristics dropped for different tests to see how the accuracy would change depending on the feature that was present or not.\n",
        "\n",
        "To change the test, re-run the code from the begining and uncomment/comment out which test you want to run"
      ],
      "metadata": {
        "id": "HVnkPnJwZbVC"
      }
    },
    {
      "cell_type": "code",
      "source": [
        "#this test characteristics without Name, Cabin, and Ticket info  -- TEST A\n",
        "#train.drop(['Name', 'Cabin', 'Ticket'], axis=1, inplace=True)\n",
        "#test.drop(['Name', 'Cabin', 'Ticket'], axis=1, inplace=True)\n",
        "\n",
        "#this test characteristics without Embarked, Name, Cabin, and Ticket info -- TEST B\n",
        "#train.drop([ 'Embarked_C', 'Embarked_Q', 'Embarked_S','Name', 'Cabin', 'Ticket'], axis=1, inplace=True)\n",
        "#test.drop([ 'Embarked_C', 'Embarked_Q', 'Embarked_S','Name', 'Cabin', 'Ticket'], axis=1, inplace=True)\n",
        "\n",
        "#this test characteristics with only Age and Sex -- TEST C\n",
        "train.drop(['Pclass','SibSp', 'Parch', 'Fare' ,'Embarked_C', 'Embarked_Q', 'Embarked_S','Name', 'Cabin', 'Ticket'], axis=1, inplace=True)\n",
        "test.drop([ 'Pclass','SibSp', 'Parch', 'Fare','Embarked_C', 'Embarked_Q', 'Embarked_S','Name', 'Cabin', 'Ticket'], axis=1, inplace=True)"
      ],
      "metadata": {
        "id": "hrLrncvwPVD2"
      },
      "execution_count": 134,
      "outputs": []
    },
    {
      "cell_type": "markdown",
      "source": [
        "Printing out new Data"
      ],
      "metadata": {
        "id": "lYOyKQcyPZr-"
      }
    },
    {
      "cell_type": "code",
      "source": [
        "train"
      ],
      "metadata": {
        "colab": {
          "base_uri": "https://localhost:8080/",
          "height": 424
        },
        "id": "435KmphVPbZX",
        "outputId": "dc083910-ebfd-4b86-8829-ecbcb886a194"
      },
      "execution_count": 135,
      "outputs": [
        {
          "output_type": "execute_result",
          "data": {
            "text/html": [
              "<div>\n",
              "<style scoped>\n",
              "    .dataframe tbody tr th:only-of-type {\n",
              "        vertical-align: middle;\n",
              "    }\n",
              "\n",
              "    .dataframe tbody tr th {\n",
              "        vertical-align: top;\n",
              "    }\n",
              "\n",
              "    .dataframe thead th {\n",
              "        text-align: right;\n",
              "    }\n",
              "</style>\n",
              "<table border=\"1\" class=\"dataframe\">\n",
              "  <thead>\n",
              "    <tr style=\"text-align: right;\">\n",
              "      <th></th>\n",
              "      <th>PassengerId</th>\n",
              "      <th>Survived</th>\n",
              "      <th>Sex</th>\n",
              "      <th>Age</th>\n",
              "    </tr>\n",
              "  </thead>\n",
              "  <tbody>\n",
              "    <tr>\n",
              "      <th>0</th>\n",
              "      <td>1</td>\n",
              "      <td>0</td>\n",
              "      <td>0</td>\n",
              "      <td>22.0</td>\n",
              "    </tr>\n",
              "    <tr>\n",
              "      <th>1</th>\n",
              "      <td>2</td>\n",
              "      <td>1</td>\n",
              "      <td>1</td>\n",
              "      <td>38.0</td>\n",
              "    </tr>\n",
              "    <tr>\n",
              "      <th>2</th>\n",
              "      <td>3</td>\n",
              "      <td>1</td>\n",
              "      <td>1</td>\n",
              "      <td>26.0</td>\n",
              "    </tr>\n",
              "    <tr>\n",
              "      <th>3</th>\n",
              "      <td>4</td>\n",
              "      <td>1</td>\n",
              "      <td>1</td>\n",
              "      <td>35.0</td>\n",
              "    </tr>\n",
              "    <tr>\n",
              "      <th>4</th>\n",
              "      <td>5</td>\n",
              "      <td>0</td>\n",
              "      <td>0</td>\n",
              "      <td>35.0</td>\n",
              "    </tr>\n",
              "    <tr>\n",
              "      <th>...</th>\n",
              "      <td>...</td>\n",
              "      <td>...</td>\n",
              "      <td>...</td>\n",
              "      <td>...</td>\n",
              "    </tr>\n",
              "    <tr>\n",
              "      <th>886</th>\n",
              "      <td>887</td>\n",
              "      <td>0</td>\n",
              "      <td>0</td>\n",
              "      <td>27.0</td>\n",
              "    </tr>\n",
              "    <tr>\n",
              "      <th>887</th>\n",
              "      <td>888</td>\n",
              "      <td>1</td>\n",
              "      <td>1</td>\n",
              "      <td>19.0</td>\n",
              "    </tr>\n",
              "    <tr>\n",
              "      <th>888</th>\n",
              "      <td>889</td>\n",
              "      <td>0</td>\n",
              "      <td>1</td>\n",
              "      <td>NaN</td>\n",
              "    </tr>\n",
              "    <tr>\n",
              "      <th>889</th>\n",
              "      <td>890</td>\n",
              "      <td>1</td>\n",
              "      <td>0</td>\n",
              "      <td>26.0</td>\n",
              "    </tr>\n",
              "    <tr>\n",
              "      <th>890</th>\n",
              "      <td>891</td>\n",
              "      <td>0</td>\n",
              "      <td>0</td>\n",
              "      <td>32.0</td>\n",
              "    </tr>\n",
              "  </tbody>\n",
              "</table>\n",
              "<p>891 rows × 4 columns</p>\n",
              "</div>"
            ],
            "text/plain": [
              "     PassengerId  Survived  Sex   Age\n",
              "0              1         0    0  22.0\n",
              "1              2         1    1  38.0\n",
              "2              3         1    1  26.0\n",
              "3              4         1    1  35.0\n",
              "4              5         0    0  35.0\n",
              "..           ...       ...  ...   ...\n",
              "886          887         0    0  27.0\n",
              "887          888         1    1  19.0\n",
              "888          889         0    1   NaN\n",
              "889          890         1    0  26.0\n",
              "890          891         0    0  32.0\n",
              "\n",
              "[891 rows x 4 columns]"
            ]
          },
          "metadata": {},
          "execution_count": 135
        }
      ]
    },
    {
      "cell_type": "code",
      "source": [
        "test"
      ],
      "metadata": {
        "colab": {
          "base_uri": "https://localhost:8080/",
          "height": 424
        },
        "id": "3uWKMFKcWvSa",
        "outputId": "4ad5ffe7-77b2-40e4-d606-375161f1248f"
      },
      "execution_count": 136,
      "outputs": [
        {
          "output_type": "execute_result",
          "data": {
            "text/html": [
              "<div>\n",
              "<style scoped>\n",
              "    .dataframe tbody tr th:only-of-type {\n",
              "        vertical-align: middle;\n",
              "    }\n",
              "\n",
              "    .dataframe tbody tr th {\n",
              "        vertical-align: top;\n",
              "    }\n",
              "\n",
              "    .dataframe thead th {\n",
              "        text-align: right;\n",
              "    }\n",
              "</style>\n",
              "<table border=\"1\" class=\"dataframe\">\n",
              "  <thead>\n",
              "    <tr style=\"text-align: right;\">\n",
              "      <th></th>\n",
              "      <th>PassengerId</th>\n",
              "      <th>Sex</th>\n",
              "      <th>Age</th>\n",
              "    </tr>\n",
              "  </thead>\n",
              "  <tbody>\n",
              "    <tr>\n",
              "      <th>0</th>\n",
              "      <td>892</td>\n",
              "      <td>0</td>\n",
              "      <td>34.5</td>\n",
              "    </tr>\n",
              "    <tr>\n",
              "      <th>1</th>\n",
              "      <td>893</td>\n",
              "      <td>1</td>\n",
              "      <td>47.0</td>\n",
              "    </tr>\n",
              "    <tr>\n",
              "      <th>2</th>\n",
              "      <td>894</td>\n",
              "      <td>0</td>\n",
              "      <td>62.0</td>\n",
              "    </tr>\n",
              "    <tr>\n",
              "      <th>3</th>\n",
              "      <td>895</td>\n",
              "      <td>0</td>\n",
              "      <td>27.0</td>\n",
              "    </tr>\n",
              "    <tr>\n",
              "      <th>4</th>\n",
              "      <td>896</td>\n",
              "      <td>1</td>\n",
              "      <td>22.0</td>\n",
              "    </tr>\n",
              "    <tr>\n",
              "      <th>...</th>\n",
              "      <td>...</td>\n",
              "      <td>...</td>\n",
              "      <td>...</td>\n",
              "    </tr>\n",
              "    <tr>\n",
              "      <th>413</th>\n",
              "      <td>1305</td>\n",
              "      <td>0</td>\n",
              "      <td>NaN</td>\n",
              "    </tr>\n",
              "    <tr>\n",
              "      <th>414</th>\n",
              "      <td>1306</td>\n",
              "      <td>1</td>\n",
              "      <td>39.0</td>\n",
              "    </tr>\n",
              "    <tr>\n",
              "      <th>415</th>\n",
              "      <td>1307</td>\n",
              "      <td>0</td>\n",
              "      <td>38.5</td>\n",
              "    </tr>\n",
              "    <tr>\n",
              "      <th>416</th>\n",
              "      <td>1308</td>\n",
              "      <td>0</td>\n",
              "      <td>NaN</td>\n",
              "    </tr>\n",
              "    <tr>\n",
              "      <th>417</th>\n",
              "      <td>1309</td>\n",
              "      <td>0</td>\n",
              "      <td>NaN</td>\n",
              "    </tr>\n",
              "  </tbody>\n",
              "</table>\n",
              "<p>418 rows × 3 columns</p>\n",
              "</div>"
            ],
            "text/plain": [
              "     PassengerId  Sex   Age\n",
              "0            892    0  34.5\n",
              "1            893    1  47.0\n",
              "2            894    0  62.0\n",
              "3            895    0  27.0\n",
              "4            896    1  22.0\n",
              "..           ...  ...   ...\n",
              "413         1305    0   NaN\n",
              "414         1306    1  39.0\n",
              "415         1307    0  38.5\n",
              "416         1308    0   NaN\n",
              "417         1309    0   NaN\n",
              "\n",
              "[418 rows x 3 columns]"
            ]
          },
          "metadata": {},
          "execution_count": 136
        }
      ]
    },
    {
      "cell_type": "markdown",
      "source": [
        "To change the test, re-run the code from the begining and uncomment/comment out which test you want to run"
      ],
      "metadata": {
        "id": "sJjkSg_dZzXt"
      }
    },
    {
      "cell_type": "code",
      "source": [
        "target = train[\"Survived\"]\n",
        "#this test characteristics without Name, Cabin, and Ticket info -- TEST A\n",
        "#charData = [\"Pclass\", \"Sex\", \"Age\", \"SibSp\", \"Parch\", \"Fare\", \"Embarked_C\", \"Embarked_Q\", \"Embarked_S\"]\n",
        "\n",
        "#this test characteristics without Embarked, Name, Cabin, and Ticket info -- TEST B\n",
        "#charData = [\"Pclass\", \"Sex\", \"Age\", \"SibSp\", \"Parch\", \"Fare\"]\n",
        "\n",
        "#this test characteristics with only Age and Sex -- TEST C\n",
        "charData = [\"Sex\", \"Age\"]\n",
        "\n",
        "trainDummies = pd.get_dummies(train[charData])\n",
        "testDummies = pd.get_dummies(test[charData])\n",
        "\n",
        "imputer = SimpleImputer()\n",
        "trainDummies = imputer.fit_transform(trainDummies)\n",
        "testDummies = imputer.fit_transform(testDummies)\n",
        "\n",
        "trainx, testx, trainy, testy = train_test_split(trainDummies, target, test_size=0.33, random_state=10)"
      ],
      "metadata": {
        "id": "fo1BJ7gEQUi4"
      },
      "execution_count": 137,
      "outputs": []
    },
    {
      "cell_type": "markdown",
      "source": [
        "Use classifier and find model accuracy"
      ],
      "metadata": {
        "id": "KrcF2tn_TNib"
      }
    },
    {
      "cell_type": "code",
      "source": [
        "clf = MLPClassifier(hidden_layer_sizes= (50,),max_iter=50000, activation='logistic', solver= 'lbfgs', random_state=1).fit(trainx, trainy)\n",
        "model_accuracy = clf.score(testx, testy)\n",
        "model_accuracy"
      ],
      "metadata": {
        "colab": {
          "base_uri": "https://localhost:8080/"
        },
        "id": "PsEet2QVTMzD",
        "outputId": "9edc811a-f337-4d0a-c3f4-081478a6d95d"
      },
      "execution_count": 138,
      "outputs": [
        {
          "output_type": "execute_result",
          "data": {
            "text/plain": [
              "0.8"
            ]
          },
          "metadata": {},
          "execution_count": 138
        }
      ]
    },
    {
      "cell_type": "markdown",
      "source": [
        "Prepare submission"
      ],
      "metadata": {
        "id": "wxEhLZ4QUKU1"
      }
    },
    {
      "cell_type": "code",
      "source": [
        "ID = test['PassengerId']\n",
        "predictions = clf.predict(testDummies)\n",
        "result = pd.DataFrame({ 'PassengerId' : ID, 'Survived': predictions})\n",
        "result.to_csv('titanicSubmission.csv', index = False)\n",
        "result.head()"
      ],
      "metadata": {
        "colab": {
          "base_uri": "https://localhost:8080/",
          "height": 206
        },
        "id": "kupajMdtULzC",
        "outputId": "20a7f71a-7418-4e2e-bf22-6bd6917fe04d"
      },
      "execution_count": 139,
      "outputs": [
        {
          "output_type": "execute_result",
          "data": {
            "text/html": [
              "<div>\n",
              "<style scoped>\n",
              "    .dataframe tbody tr th:only-of-type {\n",
              "        vertical-align: middle;\n",
              "    }\n",
              "\n",
              "    .dataframe tbody tr th {\n",
              "        vertical-align: top;\n",
              "    }\n",
              "\n",
              "    .dataframe thead th {\n",
              "        text-align: right;\n",
              "    }\n",
              "</style>\n",
              "<table border=\"1\" class=\"dataframe\">\n",
              "  <thead>\n",
              "    <tr style=\"text-align: right;\">\n",
              "      <th></th>\n",
              "      <th>PassengerId</th>\n",
              "      <th>Survived</th>\n",
              "    </tr>\n",
              "  </thead>\n",
              "  <tbody>\n",
              "    <tr>\n",
              "      <th>0</th>\n",
              "      <td>892</td>\n",
              "      <td>0</td>\n",
              "    </tr>\n",
              "    <tr>\n",
              "      <th>1</th>\n",
              "      <td>893</td>\n",
              "      <td>1</td>\n",
              "    </tr>\n",
              "    <tr>\n",
              "      <th>2</th>\n",
              "      <td>894</td>\n",
              "      <td>0</td>\n",
              "    </tr>\n",
              "    <tr>\n",
              "      <th>3</th>\n",
              "      <td>895</td>\n",
              "      <td>0</td>\n",
              "    </tr>\n",
              "    <tr>\n",
              "      <th>4</th>\n",
              "      <td>896</td>\n",
              "      <td>1</td>\n",
              "    </tr>\n",
              "  </tbody>\n",
              "</table>\n",
              "</div>"
            ],
            "text/plain": [
              "   PassengerId  Survived\n",
              "0          892         0\n",
              "1          893         1\n",
              "2          894         0\n",
              "3          895         0\n",
              "4          896         1"
            ]
          },
          "metadata": {},
          "execution_count": 139
        }
      ]
    },
    {
      "cell_type": "markdown",
      "source": [
        "The submisision below was the result of TEST A which tested characteristics without Name, Cabin, and Ticket info. This yielded a 70% score. "
      ],
      "metadata": {
        "id": "jq3jLT0uZ6Y1"
      }
    },
    {
      "cell_type": "markdown",
      "source": [
        "![image.png](data:image/png;base64,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)"
      ],
      "metadata": {
        "id": "LY9uRYCwVqs2"
      }
    },
    {
      "cell_type": "markdown",
      "source": [
        "The submisision below was the result of TEST C which tested characteristics with only Age and Sex info. This yielded a 75% score. "
      ],
      "metadata": {
        "id": "0NG0RbfQaOsG"
      }
    },
    {
      "cell_type": "markdown",
      "source": [
        "![image.png](data:image/png;base64,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)"
      ],
      "metadata": {
        "id": "1XLrkquFZW0B"
      }
    },
    {
      "cell_type": "markdown",
      "source": [
        "# **Colcusion**"
      ],
      "metadata": {
        "id": "z-un9aLgZYHs"
      }
    },
    {
      "cell_type": "markdown",
      "source": [
        "I got a higher score when I only used Age and Sex as tested characteristics. I think this could be because I had vew few parameters in that test. There would be less things to consider in this prediciton. With more characteristics involved, the prediction would drop in my model. Basically, fewer data would yield very vague results. "
      ],
      "metadata": {
        "id": "__lF_XiQaWyA"
      }
    }
  ]
}