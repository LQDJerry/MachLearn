{
  "nbformat": 4,
  "nbformat_minor": 0,
  "metadata": {
    "colab": {
      "name": "FeedForwadNetwork.ipynb",
      "provenance": [],
      "authorship_tag": "ABX9TyO5/3MjcVFemxtemjMvwZjF",
      "include_colab_link": true
    },
    "kernelspec": {
      "name": "python3",
      "display_name": "Python 3"
    },
    "language_info": {
      "name": "python"
    }
  },
  "cells": [
    {
      "cell_type": "markdown",
      "metadata": {
        "id": "view-in-github",
        "colab_type": "text"
      },
      "source": [
        "<a href=\"https://colab.research.google.com/github/LQDJerry/MachLearn/blob/main/FeedForwadNetwork.ipynb\" target=\"_parent\"><img src=\"https://colab.research.google.com/assets/colab-badge.svg\" alt=\"Open In Colab\"/></a>"
      ]
    },
    {
      "cell_type": "markdown",
      "metadata": {
        "id": "ymqDzx477f_U"
      },
      "source": [
        "Feed Forward Network with 2 Hidden Units \n",
        "\n",
        "w1 = (3.19304864, 9.93278091, -4.74659947)\n",
        "\n",
        "w2 = (-1.59451474, 9.97879746, 4.47953684)\n",
        "\n",
        "V1 = (0.32620883, -8.71647388, 8.39004239)\n",
        "\n",
        "Generate output with test points: [ (0,0), (0,1), (1,0), (1,1) ]\n"
      ]
    },
    {
      "cell_type": "code",
      "metadata": {
        "id": "CZTSzr8Q7bnB"
      },
      "source": [
        "import matplotlib.pyplot as plt\n",
        "import numpy as np\n",
        "import math\n",
        "\n",
        "#imported libraries needed "
      ],
      "execution_count": 11,
      "outputs": []
    },
    {
      "cell_type": "markdown",
      "metadata": {
        "id": "OYtfkgviBXGc"
      },
      "source": [
        "Setting up what is given:"
      ]
    },
    {
      "cell_type": "code",
      "metadata": {
        "colab": {
          "base_uri": "https://localhost:8080/"
        },
        "id": "GbZTq4S8Bchy",
        "outputId": "ec9bdfa5-38b2-487a-af64-c3d041e703ec"
      },
      "source": [
        "w1 = (3.19304864, 9.93278091, -4.74659947)\n",
        "\n",
        "w2 = (-1.59451474, 9.97879746, 4.47953684)\n",
        "\n",
        "V1 = (0.32620883, -8.71647388, 8.39004239)\n",
        "\n",
        "#Test Points: \n",
        "X = [(0,0), (0,1), (1,0), (1,1)]\n",
        "\n",
        "x = [x for (x, y) in X]\n",
        "\n",
        "y = [y for (x, y) in X]\n",
        "\n",
        "testPoints = [(1, x, y) for (x, y) in X]\n",
        "\n",
        "print(\"These are the test points we are working with: \", X)\n"
      ],
      "execution_count": 12,
      "outputs": [
        {
          "output_type": "stream",
          "name": "stdout",
          "text": [
            "These are the test points we are working with:  [(0, 0), (0, 1), (1, 0), (1, 1)]\n"
          ]
        }
      ]
    },
    {
      "cell_type": "markdown",
      "metadata": {
        "id": "hKxmCKAeDJm-"
      },
      "source": [
        "Setting up the functions we will be using:"
      ]
    },
    {
      "cell_type": "code",
      "metadata": {
        "id": "fCGZsqmUDM89"
      },
      "source": [
        "\n",
        "#Sigmoid function:\n",
        "\n",
        "def sigmoid(x):\n",
        "    return (1.0/(1.0+math.exp(-x)))\n",
        "\n"
      ],
      "execution_count": 13,
      "outputs": []
    },
    {
      "cell_type": "code",
      "metadata": {
        "id": "G0tAT_LODl0F"
      },
      "source": [
        "\n",
        "#Classsification function:\n",
        "\n",
        "def classsification(model, x):\n",
        "    return [1 if sigmoid(F(model, x)) > 0.5 else 0 for x in X]\n"
      ],
      "execution_count": 14,
      "outputs": []
    },
    {
      "cell_type": "code",
      "metadata": {
        "id": "zymCcNzzEA0j"
      },
      "source": [
        "\n",
        "#F(W, X) function:\n",
        "\n",
        "def F(W, X):\n",
        "    return sum([w*x for w, x in zip(W, x)])\n",
        "    "
      ],
      "execution_count": 15,
      "outputs": []
    },
    {
      "cell_type": "markdown",
      "metadata": {
        "id": "kCmDCbcxGM5h"
      },
      "source": [
        "Using the given weights and test points, we will calculate Zi using the functions above.\n",
        "\n",
        "Z0 does not need to be calcualted as it is equal to 1\n"
      ]
    },
    {
      "cell_type": "code",
      "metadata": {
        "colab": {
          "base_uri": "https://localhost:8080/"
        },
        "id": "OopEQAuLGsO-",
        "outputId": "61e297d3-6a2c-47ae-cffb-cf952e037584"
      },
      "source": [
        "\n",
        "Z1 = [sigmoid(F(w1, x)) for x in testPoints]\n",
        "\n",
        "print(\"This is the value what we get for Z1: \", Z1)\n"
      ],
      "execution_count": 16,
      "outputs": [
        {
          "output_type": "stream",
          "name": "stdout",
          "text": [
            "This is the value what we get for Z1:  [0.008606451599515088, 0.008606451599515088, 0.008606451599515088, 0.008606451599515088]\n"
          ]
        }
      ]
    },
    {
      "cell_type": "code",
      "metadata": {
        "colab": {
          "base_uri": "https://localhost:8080/"
        },
        "id": "iUmjA9aVHsNp",
        "outputId": "295f6550-2009-496d-da7c-b6fe02472a83"
      },
      "source": [
        "\n",
        "Z2 = [sigmoid(F(w2, x)) for x in testPoints]\n",
        "\n",
        "print(\"This is the value what we get for Z2: \", Z2)\n"
      ],
      "execution_count": 17,
      "outputs": [
        {
          "output_type": "stream",
          "name": "stdout",
          "text": [
            "This is the value what we get for Z2:  [0.9887884603222319, 0.9887884603222319, 0.9887884603222319, 0.9887884603222319]\n"
          ]
        }
      ]
    },
    {
      "cell_type": "code",
      "metadata": {
        "colab": {
          "base_uri": "https://localhost:8080/"
        },
        "id": "w33HLzMIH2a-",
        "outputId": "71ddc42b-bba6-49ef-b100-4b4b49b54cda"
      },
      "source": [
        "#Combining values for Z\n",
        "\n",
        "zValues = [(1, z1, z2) for (z1, z2) in zip(Z1, Z2)]\n",
        "\n",
        "print(\"These are the Z values we get: \", zValues)"
      ],
      "execution_count": 18,
      "outputs": [
        {
          "output_type": "stream",
          "name": "stdout",
          "text": [
            "These are the Z values we get:  [(1, 0.008606451599515088, 0.9887884603222319), (1, 0.008606451599515088, 0.9887884603222319), (1, 0.008606451599515088, 0.9887884603222319), (1, 0.008606451599515088, 0.9887884603222319)]\n"
          ]
        }
      ]
    },
    {
      "cell_type": "markdown",
      "metadata": {
        "id": "Qt9A-yj9Iyz9"
      },
      "source": [
        "Using V1 given and Z values we calculated earlier, we will calculate Yi using the functions above."
      ]
    },
    {
      "cell_type": "code",
      "metadata": {
        "colab": {
          "base_uri": "https://localhost:8080/"
        },
        "id": "rOQCkgzUJBpg",
        "outputId": "f15b22eb-b7c5-42fd-bb2f-3d6d9189865a"
      },
      "source": [
        "\n",
        "Y1 = [F(V1, Z) for Z in zValues]\n",
        "\n",
        "print(\"We get \", Y1, \" for Y1.\")\n"
      ],
      "execution_count": 19,
      "outputs": [
        {
          "output_type": "stream",
          "name": "stdout",
          "text": [
            "We get  [8.39004239, 8.39004239, 8.39004239, 8.39004239]  for Y1.\n"
          ]
        }
      ]
    },
    {
      "cell_type": "markdown",
      "metadata": {
        "id": "H86GXRKbKi5c"
      },
      "source": [
        "Using V1, Y1, and out Z values, we will classify with the classification function."
      ]
    },
    {
      "cell_type": "code",
      "metadata": {
        "colab": {
          "base_uri": "https://localhost:8080/"
        },
        "id": "NHre6CeLKuYc",
        "outputId": "22f74b4a-4774-4a78-da36-ed829852f89a"
      },
      "source": [
        "\n",
        "classify = classsification(V1, zValues)\n",
        "\n",
        "combClass = list(zip(X, classify))\n",
        "\n",
        "print(\"These are the classifications in form ((x1, x2), classification) based on the test points: \", combClass)"
      ],
      "execution_count": 20,
      "outputs": [
        {
          "output_type": "stream",
          "name": "stdout",
          "text": [
            "These are the classifications in form ((x1, x2), classification) based on the test points:  [((0, 0), 1), ((0, 1), 1), ((1, 0), 1), ((1, 1), 1)]\n"
          ]
        }
      ]
    }
  ]
}