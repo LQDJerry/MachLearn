{
  "nbformat": 4,
  "nbformat_minor": 0,
  "metadata": {
    "colab": {
      "name": "MNIST.ipynb",
      "provenance": [],
      "collapsed_sections": [],
      "authorship_tag": "ABX9TyNE3Yi+RAcY0VqE/XibHYYr",
      "include_colab_link": true
    },
    "kernelspec": {
      "display_name": "Python 3",
      "name": "python3"
    },
    "language_info": {
      "name": "python"
    }
  },
  "cells": [
    {
      "cell_type": "markdown",
      "metadata": {
        "id": "view-in-github",
        "colab_type": "text"
      },
      "source": [
        "<a href=\"https://colab.research.google.com/github/LQDJerry/MachLearn/blob/main/MNIST.ipynb\" target=\"_parent\"><img src=\"https://colab.research.google.com/assets/colab-badge.svg\" alt=\"Open In Colab\"/></a>"
      ]
    },
    {
      "cell_type": "markdown",
      "metadata": {
        "id": "SCeVfo9t1a-R"
      },
      "source": [
        "Import libraries as needed "
      ]
    },
    {
      "cell_type": "code",
      "metadata": {
        "id": "FybSsy4gtdCE"
      },
      "source": [
        "import numpy as np\n",
        "import matplotlib.pyplot as plt\n",
        "import math\n",
        "import pandas as pd\n",
        "import os\n",
        "from sklearn.decomposition import PCA\n",
        "from sklearn import datasets\n",
        "\n",
        "from sklearn.linear_model import LogisticRegression\n",
        "from sklearn.metrics import accuracy_score"
      ],
      "execution_count": 58,
      "outputs": []
    },
    {
      "cell_type": "markdown",
      "metadata": {
        "id": "VZ_RZld91jWn"
      },
      "source": [
        "Loading the dataset into colab"
      ]
    },
    {
      "cell_type": "code",
      "metadata": {
        "colab": {
          "base_uri": "https://localhost:8080/"
        },
        "id": "KsaXT4yyt7tg",
        "outputId": "0921241d-3979-4d20-bf33-4e9cbd25d213"
      },
      "source": [
        "mnist = pd.read_csv(\"https://github.com/LQDJerry/MachLearn/raw/main/data/train.zip\")\n",
        "data = mnist.values\n",
        "print(data.shape)\n",
        "print (data[1,1:])"
      ],
      "execution_count": 59,
      "outputs": [
        {
          "output_type": "stream",
          "name": "stdout",
          "text": [
            "(42000, 785)\n",
            "[  0   0   0   0   0   0   0   0   0   0   0   0   0   0   0   0   0   0\n",
            "   0   0   0   0   0   0   0   0   0   0   0   0   0   0   0   0   0   0\n",
            "   0   0   0   0   0   0   0   0   0   0   0   0   0   0   0   0   0   0\n",
            "   0   0   0   0   0   0   0   0   0   0   0   0   0   0   0   0   0   0\n",
            "   0   0   0   0   0   0   0   0   0   0   0   0   0   0   0   0   0   0\n",
            "   0   0   0   0   0   0   0   0   0   0   0   0   0   0   0   0   0   0\n",
            "   0   0   0   0   0   0   0   0   0   0   0   0   0   0  18  30 137 137\n",
            " 192  86  72   1   0   0   0   0   0   0   0   0   0   0   0   0   0   0\n",
            "   0   0   0   0  13  86 250 254 254 254 254 217 246 151  32   0   0   0\n",
            "   0   0   0   0   0   0   0   0   0   0   0   0   0  16 179 254 254 254\n",
            " 254 254 254 254 254 254 231  54  15   0   0   0   0   0   0   0   0   0\n",
            "   0   0   0   0   0  72 254 254 254 254 254 254 254 254 254 254 254 254\n",
            " 104   0   0   0   0   0   0   0   0   0   0   0   0   0  61 191 254 254\n",
            " 254 254 254 109  83 199 254 254 254 254 243  85   0   0   0   0   0   0\n",
            "   0   0   0   0   0   0 172 254 254 254 202 147 147  45   0  11  29 200\n",
            " 254 254 254 171   0   0   0   0   0   0   0   0   0   0   0   1 174 254\n",
            " 254  89  67   0   0   0   0   0   0 128 252 254 254 212  76   0   0   0\n",
            "   0   0   0   0   0   0   0  47 254 254 254  29   0   0   0   0   0   0\n",
            "   0   0  83 254 254 254 153   0   0   0   0   0   0   0   0   0   0  80\n",
            " 254 254 240  24   0   0   0   0   0   0   0   0  25 240 254 254 153   0\n",
            "   0   0   0   0   0   0   0   0   0  64 254 254 186   7   0   0   0   0\n",
            "   0   0   0   0   0 166 254 254 224  12   0   0   0   0   0   0   0   0\n",
            "  14 232 254 254 254  29   0   0   0   0   0   0   0   0   0  75 254 254\n",
            " 254  17   0   0   0   0   0   0   0   0  18 254 254 254 254  29   0   0\n",
            "   0   0   0   0   0   0   0  48 254 254 254  17   0   0   0   0   0   0\n",
            "   0   0   2 163 254 254 254  29   0   0   0   0   0   0   0   0   0  48\n",
            " 254 254 254  17   0   0   0   0   0   0   0   0   0  94 254 254 254 200\n",
            "  12   0   0   0   0   0   0   0  16 209 254 254 150   1   0   0   0   0\n",
            "   0   0   0   0   0  15 206 254 254 254 202  66   0   0   0   0   0  21\n",
            " 161 254 254 245  31   0   0   0   0   0   0   0   0   0   0   0  60 212\n",
            " 254 254 254 194  48  48  34  41  48 209 254 254 254 171   0   0   0   0\n",
            "   0   0   0   0   0   0   0   0   0  86 243 254 254 254 254 254 233 243\n",
            " 254 254 254 254 254  86   0   0   0   0   0   0   0   0   0   0   0   0\n",
            "   0   0 114 254 254 254 254 254 254 254 254 254 254 239  86  11   0   0\n",
            "   0   0   0   0   0   0   0   0   0   0   0   0  13 182 254 254 254 254\n",
            " 254 254 254 254 243  70   0   0   0   0   0   0   0   0   0   0   0   0\n",
            "   0   0   0   0   0   8  76 146 254 255 254 255 146  19  15   0   0   0\n",
            "   0   0   0   0   0   0   0   0   0   0   0   0   0   0   0   0   0   0\n",
            "   0   0   0   0   0   0   0   0   0   0   0   0   0   0   0   0   0   0\n",
            "   0   0   0   0   0   0   0   0   0   0   0   0   0   0   0   0   0   0\n",
            "   0   0   0   0   0   0   0   0   0   0   0   0   0   0   0   0   0   0\n",
            "   0   0   0   0   0   0   0   0   0   0   0   0   0   0   0   0   0   0\n",
            "   0   0   0   0   0   0   0   0   0   0   0   0   0   0   0   0   0   0\n",
            "   0   0   0   0   0   0   0   0   0   0]\n"
          ]
        }
      ]
    },
    {
      "cell_type": "code",
      "metadata": {
        "colab": {
          "base_uri": "https://localhost:8080/",
          "height": 376
        },
        "id": "FiflXHVFjWcK",
        "outputId": "e38e2429-3ffc-4708-a652-0fcbf25f8f3e"
      },
      "source": [
        "plt.figure(figsize=(6,6))\n",
        "\n",
        "for i in range(9):\n",
        "    img = np.asarray(mnist.iloc[i,1:].values.reshape((28,28))/255);\n",
        "    ax=plt.subplot(3, 3, i+1)\n",
        "    plt.imshow(img)\n",
        "    \n",
        "plt.show()"
      ],
      "execution_count": 60,
      "outputs": [
        {
          "output_type": "display_data",
          "data": {
            "image/png": "[encoded data removed]",
            "text/plain": [
              "<Figure size 432x432 with 9 Axes>"
            ]
          },
          "metadata": {
            "needs_background": "light"
          }
        }
      ]
    },
    {
      "cell_type": "code",
      "metadata": {
        "colab": {
          "base_uri": "https://localhost:8080/",
          "height": 866
        },
        "id": "164X3dLVt89p",
        "outputId": "12a3dc8b-a2b1-4e2d-cca7-0d83297fdc85"
      },
      "source": [
        "# print one number\n",
        "myNumber = data[1,1:]\n",
        "print (myNumber[:5])\n",
        "myNumber=myNumber.reshape((28,28))\n",
        "plt.imshow(myNumber, cmap = plt.cm.binary,\n",
        "           interpolation=\"nearest\")\n",
        "plt.axis(\"off\")\n",
        "plt.show()\n",
        "mnist['label'].hist()\n",
        "plt.show()\n",
        "print(mnist.columns)\n",
        "plt.hist(data[:,0])\n",
        "plt.show()"
      ],
      "execution_count": 61,
      "outputs": [
        {
          "output_type": "stream",
          "name": "stdout",
          "text": [
            "[0 0 0 0 0]\n"
          ]
        },
        {
          "output_type": "display_data",
          "data": {
            "image/png": "[encoded data removed]",
            "text/plain": [
              "<Figure size 432x288 with 1 Axes>"
            ]
          },
          "metadata": {
            "needs_background": "light"
          }
        },
        {
          "output_type": "display_data",
          "data": {
            "image/png": "[encoded data removed]",
            "text/plain": [
              "<Figure size 432x288 with 1 Axes>"
            ]
          },
          "metadata": {
            "needs_background": "light"
          }
        },
        {
          "output_type": "stream",
          "name": "stdout",
          "text": [
            "Index(['label', 'pixel0', 'pixel1', 'pixel2', 'pixel3', 'pixel4', 'pixel5',\n",
            "       'pixel6', 'pixel7', 'pixel8',\n",
            "       ...\n",
            "       'pixel774', 'pixel775', 'pixel776', 'pixel777', 'pixel778', 'pixel779',\n",
            "       'pixel780', 'pixel781', 'pixel782', 'pixel783'],\n",
            "      dtype='object', length=785)\n"
          ]
        },
        {
          "output_type": "display_data",
          "data": {
            "image/png": "[encoded data removed]",
            "text/plain": [
              "<Figure size 432x288 with 1 Axes>"
            ]
          },
          "metadata": {
            "needs_background": "light"
          }
        }
      ]
    },
    {
      "cell_type": "code",
      "metadata": {
        "colab": {
          "base_uri": "https://localhost:8080/"
        },
        "id": "7J_DRCIyt-5F",
        "outputId": "59ee356c-faf6-47d6-d266-c27dda5c1af4"
      },
      "source": [
        "mnist_test = pd.read_csv('https://github.com/LQDJerry/MachLearn/raw/main/data/test.zip')\n",
        "mnist_test.info()\n",
        "mnist_test.index.name='ImageId'\n",
        "\n",
        "mnist_test['label']=1\n",
        "\n",
        "mnist_test.index+=1\n",
        "mnist_test['label'].to_csv('MnistOne.csv', index=True, header=True)"
      ],
      "execution_count": 62,
      "outputs": [
        {
          "output_type": "stream",
          "name": "stdout",
          "text": [
            "<class 'pandas.core.frame.DataFrame'>\n",
            "RangeIndex: 28000 entries, 0 to 27999\n",
            "Columns: 784 entries, pixel0 to pixel783\n",
            "dtypes: int64(784)\n",
            "memory usage: 167.5 MB\n"
          ]
        }
      ]
    },
    {
      "cell_type": "markdown",
      "metadata": {
        "id": "iZtKxsKjmEoz"
      },
      "source": [
        "Setting multiple components for testing dimensionality reduction "
      ]
    },
    {
      "cell_type": "code",
      "metadata": {
        "colab": {
          "base_uri": "https://localhost:8080/"
        },
        "id": "PmIDawijuAdZ",
        "outputId": "02d34e17-5c39-4b41-a0d9-a801660e7ddf"
      },
      "source": [
        "rnd_pca = PCA(n_components=4)\n",
        "rnd_pca2 = PCA(n_components=10)\n",
        "rnd_pca4 = PCA(n_components=20)\n",
        "rnd_pca8 = PCA(n_components=40)\n",
        "rnd_pca16 = PCA(n_components=80)\n",
        "rnd_pca32 = PCA(n_components=160)\n",
        "\n",
        "\n",
        "rnd_pca.fit(data[:,1:])\n",
        "rnd_pca2.fit(data[:,1:])\n",
        "rnd_pca4.fit(data[:,1:])\n",
        "rnd_pca8.fit(data[:,1:])\n",
        "rnd_pca16.fit(data[:,1:])\n",
        "rnd_pca32.fit(data[:,1:])\n",
        "\n",
        "\n",
        "X_reduced = rnd_pca.transform(data[:,1:])\n",
        "X_reduced2 = rnd_pca2.transform(data[:,1:])\n",
        "X_reduced4 = rnd_pca4.transform(data[:,1:])\n",
        "X_reduced8 = rnd_pca8.transform(data[:,1:])\n",
        "X_reduced16 = rnd_pca16.transform(data[:,1:])\n",
        "X_reduced32 = rnd_pca32.transform(data[:,1:])\n",
        "\n",
        "print (X_reduced.shape)\n",
        "print (X_reduced2.shape)\n",
        "print (X_reduced4.shape)\n",
        "print (X_reduced8.shape)\n",
        "print (X_reduced16.shape)\n",
        "print (X_reduced32.shape)\n"
      ],
      "execution_count": 63,
      "outputs": [
        {
          "output_type": "stream",
          "name": "stdout",
          "text": [
            "(42000, 4)\n",
            "(42000, 10)\n",
            "(42000, 20)\n",
            "(42000, 40)\n",
            "(42000, 80)\n",
            "(42000, 160)\n"
          ]
        }
      ]
    },
    {
      "cell_type": "code",
      "metadata": {
        "colab": {
          "base_uri": "https://localhost:8080/",
          "height": 727
        },
        "id": "NvyNJDZ6uB1e",
        "outputId": "8845e7d9-3d71-47a4-c1e4-f9736c2378b4"
      },
      "source": [
        "#eigennumbers = rnd_pca.components_.reshape((154,28,28))\n",
        "#eigennumbers = rnd_pca.components_.reshape((169,28,28))\n",
        "eigennumbers = rnd_pca.components_.reshape((4,28,28))\n",
        "myNumber = eigennumbers[0]\n",
        "print (len(myNumber))\n",
        "myNumber=myNumber.reshape((28,28))\n",
        "plt.imshow(myNumber, cmap = plt.cm.binary,\n",
        "           interpolation=\"nearest\")\n",
        "plt.axis(\"off\")\n",
        "plt.show()\n",
        "\n",
        "myNumber = eigennumbers[1]\n",
        "myNumber=myNumber.reshape((28,28))\n",
        "plt.imshow(myNumber, cmap = plt.cm.binary,\n",
        "           interpolation=\"nearest\")\n",
        "plt.axis(\"off\")\n",
        "plt.show()\n",
        "\n",
        "myNumber = eigennumbers[2]\n",
        "myNumber=myNumber.reshape((28,28))\n",
        "plt.imshow(myNumber, cmap = plt.cm.binary,\n",
        "           interpolation=\"nearest\")\n",
        "plt.axis(\"off\")\n",
        "plt.show()"
      ],
      "execution_count": 64,
      "outputs": [
        {
          "output_type": "stream",
          "name": "stdout",
          "text": [
            "28\n"
          ]
        },
        {
          "output_type": "display_data",
          "data": {
            "image/png": "[encoded data removed]",
            "text/plain": [
              "<Figure size 432x288 with 1 Axes>"
            ]
          },
          "metadata": {
            "needs_background": "light"
          }
        },
        {
          "output_type": "display_data",
          "data": {
            "image/png": "[encoded data removed]",
            "text/plain": [
              "<Figure size 432x288 with 1 Axes>"
            ]
          },
          "metadata": {
            "needs_background": "light"
          }
        },
        {
          "output_type": "display_data",
          "data": {
            "image/png": "[encoded data removed]",
            "text/plain": [
              "<Figure size 432x288 with 1 Axes>"
            ]
          },
          "metadata": {
            "needs_background": "light"
          }
        }
      ]
    },
    {
      "cell_type": "code",
      "metadata": {
        "colab": {
          "base_uri": "https://localhost:8080/",
          "height": 269
        },
        "id": "A5EnpxOCuDzZ",
        "outputId": "bc5b0aa8-27b1-4929-ed76-244c0bf00b04"
      },
      "source": [
        "myNumber = X_reduced[0,:]\n",
        "myNumber=myNumber.reshape((2,2))\n",
        "plt.imshow(myNumber, cmap = plt.cm.binary,\n",
        "           interpolation=\"nearest\")\n",
        "plt.show()"
      ],
      "execution_count": 65,
      "outputs": [
        {
          "output_type": "display_data",
          "data": {
            "image/png": "[encoded data removed]",
            "text/plain": [
              "<Figure size 432x288 with 1 Axes>"
            ]
          },
          "metadata": {
            "needs_background": "light"
          }
        }
      ]
    },
    {
      "cell_type": "code",
      "metadata": {
        "id": "dYrHbkO5uG6g",
        "colab": {
          "base_uri": "https://localhost:8080/"
        },
        "outputId": "caaeae21-d1d2-4596-fa47-ee98a3a9b928"
      },
      "source": [
        "clf1 = LogisticRegression(solver='saga',\n",
        "                        max_iter=10000)\n",
        "clf1.fit(X_reduced, data[:, 0] )"
      ],
      "execution_count": 66,
      "outputs": [
        {
          "output_type": "execute_result",
          "data": {
            "text/plain": [
              "LogisticRegression(max_iter=10000, solver='saga')"
            ]
          },
          "metadata": {},
          "execution_count": 66
        }
      ]
    },
    {
      "cell_type": "code",
      "metadata": {
        "colab": {
          "base_uri": "https://localhost:8080/"
        },
        "id": "-K7Xj_8Eq452",
        "outputId": "0637dfb7-dc92-49e9-f51c-ea331f981221"
      },
      "source": [
        "clf2 = LogisticRegression(solver='saga',\n",
        "                        max_iter=10000)\n",
        "clf2.fit(X_reduced2, data[:, 0] )"
      ],
      "execution_count": 67,
      "outputs": [
        {
          "output_type": "execute_result",
          "data": {
            "text/plain": [
              "LogisticRegression(max_iter=10000, solver='saga')"
            ]
          },
          "metadata": {},
          "execution_count": 67
        }
      ]
    },
    {
      "cell_type": "code",
      "metadata": {
        "colab": {
          "base_uri": "https://localhost:8080/"
        },
        "id": "vY4-3BFFq4xr",
        "outputId": "219ae610-b84e-49bf-fce6-e96299557b49"
      },
      "source": [
        "clf3 = LogisticRegression(solver='saga',\n",
        "                        max_iter=10000)\n",
        "clf3.fit(X_reduced4, data[:, 0] )"
      ],
      "execution_count": 68,
      "outputs": [
        {
          "output_type": "execute_result",
          "data": {
            "text/plain": [
              "LogisticRegression(max_iter=10000, solver='saga')"
            ]
          },
          "metadata": {},
          "execution_count": 68
        }
      ]
    },
    {
      "cell_type": "code",
      "metadata": {
        "colab": {
          "base_uri": "https://localhost:8080/"
        },
        "id": "WG_N_kToq4qA",
        "outputId": "38bef4ab-9f9d-4cae-be45-d164c5711682"
      },
      "source": [
        "clf4 = LogisticRegression(solver='saga',\n",
        "                        max_iter=10000)\n",
        "clf4.fit(X_reduced8, data[:, 0] )"
      ],
      "execution_count": 69,
      "outputs": [
        {
          "output_type": "execute_result",
          "data": {
            "text/plain": [
              "LogisticRegression(max_iter=10000, solver='saga')"
            ]
          },
          "metadata": {},
          "execution_count": 69
        }
      ]
    },
    {
      "cell_type": "code",
      "metadata": {
        "colab": {
          "base_uri": "https://localhost:8080/"
        },
        "id": "2NS_lI-8q4iE",
        "outputId": "1cd5648a-df18-4276-85a0-61f39844ec5f"
      },
      "source": [
        "clf5 = LogisticRegression(solver='saga',\n",
        "                        max_iter=10000)\n",
        "clf5.fit(X_reduced16, data[:, 0] )"
      ],
      "execution_count": 70,
      "outputs": [
        {
          "output_type": "execute_result",
          "data": {
            "text/plain": [
              "LogisticRegression(max_iter=10000, solver='saga')"
            ]
          },
          "metadata": {},
          "execution_count": 70
        }
      ]
    },
    {
      "cell_type": "code",
      "metadata": {
        "colab": {
          "base_uri": "https://localhost:8080/"
        },
        "id": "FAZX0VsWq4Lg",
        "outputId": "7e0ee511-d71d-431c-ed1b-200a77944ab0"
      },
      "source": [
        "clf6 = LogisticRegression(solver='saga',\n",
        "                        max_iter=10000)\n",
        "clf6.fit(X_reduced32, data[:, 0] )"
      ],
      "execution_count": 71,
      "outputs": [
        {
          "output_type": "execute_result",
          "data": {
            "text/plain": [
              "LogisticRegression(max_iter=10000, solver='saga')"
            ]
          },
          "metadata": {},
          "execution_count": 71
        }
      ]
    },
    {
      "cell_type": "code",
      "metadata": {
        "id": "OFPPeQk4uITM",
        "colab": {
          "base_uri": "https://localhost:8080/"
        },
        "outputId": "e46db76a-672d-480b-8422-a821e0f2534f"
      },
      "source": [
        "predict = clf1.predict(X_reduced)\n",
        "predict2 = clf2.predict(X_reduced2)\n",
        "predict3 = clf3.predict(X_reduced4)\n",
        "predict4 = clf4.predict(X_reduced8)\n",
        "predict5 = clf5.predict(X_reduced16)\n",
        "predict6 = clf6.predict(X_reduced32)\n",
        "\n",
        "print(\"Accuracy = \", accuracy_score(predict, data[:, 0]))\n",
        "print(\"Accuracy = \", accuracy_score(predict2, data[:, 0]))\n",
        "print(\"Accuracy = \", accuracy_score(predict3, data[:, 0]))\n",
        "print(\"Accuracy = \", accuracy_score(predict4, data[:, 0]))\n",
        "print(\"Accuracy = \", accuracy_score(predict5, data[:, 0]))\n",
        "print(\"Accuracy = \", accuracy_score(predict6, data[:, 0]))"
      ],
      "execution_count": 72,
      "outputs": [
        {
          "output_type": "stream",
          "name": "stdout",
          "text": [
            "Accuracy =  0.5606904761904762\n",
            "Accuracy =  0.7867380952380952\n",
            "Accuracy =  0.8660952380952381\n",
            "Accuracy =  0.8967619047619048\n",
            "Accuracy =  0.9140952380952381\n",
            "Accuracy =  0.9253809523809524\n"
          ]
        }
      ]
    },
    {
      "cell_type": "code",
      "metadata": {
        "id": "NLWZ_CXtwhTD"
      },
      "source": [
        ""
      ],
      "execution_count": 72,
      "outputs": []
    },
    {
      "cell_type": "code",
      "metadata": {
        "id": "_caQb292uJYc",
        "colab": {
          "base_uri": "https://localhost:8080/"
        },
        "outputId": "9f4c6685-6e0e-4ff5-f43d-18c3b5bcb11a"
      },
      "source": [
        "mnistTest = pd.read_csv('https://github.com/LQDJerry/MachLearn/raw/main/data/test.zip')\n",
        "test = mnistTest.values\n",
        "XTest_reduced = rnd_pca32.transform(test)\n",
        "print(XTest_reduced.shape)\n",
        "predict = clf6.predict(XTest_reduced)"
      ],
      "execution_count": 73,
      "outputs": [
        {
          "output_type": "stream",
          "name": "stdout",
          "text": [
            "(28000, 160)\n"
          ]
        }
      ]
    },
    {
      "cell_type": "code",
      "metadata": {
        "id": "Vj7ETaVPuKe9",
        "colab": {
          "base_uri": "https://localhost:8080/"
        },
        "outputId": "34b9abd7-7ac1-48bd-8ec3-d5bf3ab35287"
      },
      "source": [
        "mnistTest.info()\n",
        "mnistTest.index.name='ImageId'\n",
        "mnistTest.index+=1\n",
        "mnistTest['label']=predict\n",
        "\n",
        "\n",
        "mnistTest['label'].to_csv('MNISTsub.csv', index=True, header=True)"
      ],
      "execution_count": 77,
      "outputs": [
        {
          "output_type": "stream",
          "name": "stdout",
          "text": [
            "<class 'pandas.core.frame.DataFrame'>\n",
            "RangeIndex: 28000 entries, 0 to 27999\n",
            "Columns: 785 entries, pixel0 to label\n",
            "dtypes: int64(785)\n",
            "memory usage: 167.7 MB\n"
          ]
        }
      ]
    },
    {
      "cell_type": "markdown",
      "metadata": {
        "id": "jMyt2cFM2ZcG"
      },
      "source": [
        "This submition got a score of 91% on Kaggle. \n",
        "\n",
        "![score.JPG](data:image/jpeg;base64,/9j/4AAQSkZJRgABAQEAYABgAAD/4RDcRXhpZgAATU0AKgAAAAgABAE7AAIAAAAGAAAISodpAAQAAAABAAAIUJydAAEAAAAMAAAQyOocAAcAAAgMAAAAPgAAAAAc6gAAAAgAAAAAAAAAAAAAAAAAAAAAAAAAAAAAAAAAAAAAAAAAAAAAAAAAAAAAAAAAAAAAAAAAAAAAAAAAAAAAAAAAAAAAAAAAAAAAAAAAAAAAAAAAAAAAAAAAAAAAAAAAAAAAAAAAAAAAAAAAAAAAAAAAAAAAAAAAAAAAAAAAAAAAAAAAAAAAAAAAAAAAAAAAAAAAAAAAAAAAAAAAAAAAAAAAAAAAAAAAAAAAAAAAAAAAAAAAAAAAAAAAAAAAAAAAAAAAAAAAAAAAAAAAAAAAAAAAAAAAAAAAAAAAAAAAAAAAAAAAAAAAAAAAAAAAAAAAAAAAAAAAAAAAAAAAAAAAAAAAAAAAAAAAAAAAAAAAAAAAAAAAAAAAAAAAAAAAAAAAAAAAAAAAAAAAAAAAAAAAAAAAAAAAAAAAAAAAAAAAAAAAAAAAAAAAAAAAAAAAAAAAAAAAAAAAAAAAAAAAAAAAAAAAAAAAAAAAAAAAAAAAAAAAAAAAAAAAAAAAAAAAAAAAAAAAAAAAAAAAAAAAAAAAAAAAAAAAAAAAAAAAAAAAAAAAAAAAAAAAAAAAAAAAAAAAAAAAAAAAAAAAAAAAAAAAAAAAAAAAAAAAAAAAAAAAAAAAAAAAAAAAAAAAAAAAAAAAAAAAAAAAAAAAAAAAAAAAAAAAAAAAAAAAAAAAAAAAAAAAAAAAAAAAAAAAAAAAAAAAAAAAAAAAAAAAAAAAAAAAAAAAAAAAAAAAAAAAAAAAAAAAAAAAAAAAAAAAAAAAAAAAAAAAAAAAAAAAAAAAAAAAAAAAAAAAAAAAAAAAAAAAAAAAAAAAAAAAAAAAAAAAAAAAAAAAAAAAAAAAAAAAAAAAAAAAAAAAAAAAAAAAAAAAAAAAAAAAAAAAAAAAAAAAAAAAAAAAAAAAAAAAAAAAAAAAAAAAAAAAAAAAAAAAAAAAAAAAAAAAAAAAAAAAAAAAAAAAAAAAAAAAAAAAAAAAAAAAAAAAAAAAAAAAAAAAAAAAAAAAAAAAAAAAAAAAAAAAAAAAAAAAAAAAAAAAAAAAAAAAAAAAAAAAAAAAAAAAAAAAAAAAAAAAAAAAAAAAAAAAAAAAAAAAAAAAAAAAAAAAAAAAAAAAAAAAAAAAAAAAAAAAAAAAAAAAAAAAAAAAAAAAAAAAAAAAAAAAAAAAAAAAAAAAAAAAAAAAAAAAAAAAAAAAAAAAAAAAAAAAAAAAAAAAAAAAAAAAAAAAAAAAAAAAAAAAAAAAAAAAAAAAAAAAAAAAAAAAAAAAAAAAAAAAAAAAAAAAAAAAAAAAAAAAAAAAAAAAAAAAAAAAAAAAAAAAAAAAAAAAAAAAAAAAAAAAAAAAAAAAAAAAAAAAAAAAAAAAAAAAAAAAAAAAAAAAAAAAAAAAAAAAAAAAAAAAAAAAAAAAAAAAAAAAAAAAAAAAAAAAAAAAAAAAAAAAAAAAAAAAAAAAAAAAAAAAAAAAAAAAAAAAAAAAAAAAAAAAAAAAAAAAAAAAAAAAAAAAAAAAAAAAAAAAAAAAAAAAAAAAAAAAAAAAAAAAAAAAAAAAAAAAAAAAAAAAAAAAAAAAAAAAAAAAAAAAAAAAAAAAAAAAAAAAAAAAAAAAAAAAAAAAAAAAAAAAAAAAAAAAAAAAAAAAAAAAAAAAAAAAAAAAAAAAAAAAAAAAAAAAAAAAAAAAAAAAAAAAAAAAAAAAAAAAAAAAAAAAAAAAAAAAAAAAAAAAAAAAAAAAAAAAAAAAAAAAAAAAAAAAAAAAAAAAAAAAAAAAAAAAAAAAAAAAAAAAAAAAAAAAAAAAAAAAAAAAAAAAAAAAAAAAAAAAAAAAAAAAAAAAAAAAAAAAAAAAAAAAAAAAAAAAAAAAAAAAAAAAAAAAAAAAAAAAAAAAAAAAAAAAAAAAAAAAAAAAAAAAAAAAAAAAAAAAAAAAAAAAAAAAAAAAAAAAAAAAAAAAAAAAAAAAAAAAAAAAAAAAAAAAAAAAAAAAAAAAAAAAAAAAAAAAAAAAAAAAAAAAAAAAAAAAAAAAAAAAAAAAAAAAAAAAAAAAAAAAAAAAAAAAAAAAAAAAAAAAAAAAAAAAAAAAAAAAAAAAAAAAAAAAAAAAAAAAAAAAAAAAAAAAAAAAAAAAAAAAAAAAAAAAAAAAAAAAAAAAAAAAAAAAAAAAAAAAAAAAAAAAAAAAAAAAAAAAAAAAAAAAAAAAAAAAAAAAAAAAAAAAAAAAAAAAAAAAAAAAAAAAAAAAAAAAAAAAAAAAAAAAAAAAAAAAAAAAAAAAAAAAAAAAAAAAAAAAAAAAAAAAAAAAAAAAAAAAAAAAAAAAAAAAAAAAAAAAAAAAAAAAAAAAAAAAAAAAAAAAAAAAAAAAAAAAAAAAAAAAAAAAAAAAAAAAAAAAAAAAAAAAAAAAAAAAAAAAAAAAAAAAAAAAAAAAAAAAAAAAAAAAAAAAAAAAAAAAAAAAAAAAAAAAAAAAAAAAAAAAAAAAAAAAAAAAAAAAAAAAAAAAAAAAAAAAAAAAAAAAAAAAAAAAAAAAAAAAAAAAAAAAAAAAAAAAAAAAAAAAAAAAAAAAAAAAAAAAAAAAAAAAAAAAAAAAAAAAAAAAAAAAAAAAAAAAAAAAAAAAAAAAAAAAAAAAAAAAAAAAAAAAAAAAAAAAAAAAAAAAAAAAAAAAAAAAAAAAAAAAAAAAAAAAAAAAAAAAAAAAAAAAAAAAAAAAAAAAAAAAAAAAAAAAAAAAAAAAAAAAAAAAAAAAAAAAAAAAAAAAAAAAAAAAAGplcmVtAAAFkAMAAgAAABQAABCekAQAAgAAABQAABCykpEAAgAAAAM1MQAAkpIAAgAAAAM1MQAA6hwABwAACAwAAAiSAAAAABzqAAAACAAAAAAAAAAAAAAAAAAAAAAAAAAAAAAAAAAAAAAAAAAAAAAAAAAAAAAAAAAAAAAAAAAAAAAAAAAAAAAAAAAAAAAAAAAAAAAAAAAAAAAAAAAAAAAAAAAAAAAAAAAAAAAAAAAAAAAAAAAAAAAAAAAAAAAAAAAAAAAAAAAAAAAAAAAAAAAAAAAAAAAAAAAAAAAAAAAAAAAAAAAAAAAAAAAAAAAAAAAAAAAAAAAAAAAAAAAAAAAAAAAAAAAAAAAAAAAAAAAAAAAAAAAAAAAAAAAAAAAAAAAAAAAAAAAAAAAAAAAAAAAAAAAAAAAAAAAAAAAAAAAAAAAAAAAAAAAAAAAAAAAAAAAAAAAAAAAAAAAAAAAAAAAAAAAAAAAAAAAAAAAAAAAAAAAAAAAAAAAAAAAAAAAAAAAAAAAAAAAAAAAAAAAAAAAAAAAAAAAAAAAAAAAAAAAAAAAAAAAAAAAAAAAAAAAAAAAAAAAAAAAAAAAAAAAAAAAAAAAAAAAAAAAAAAAAAAAAAAAAAAAAAAAAAAAAAAAAAAAAAAAAAAAAAAAAAAAAAAAAAAAAAAAAAAAAAAAAAAAAAAAAAAAAAAAAAAAAAAAAAAAAAAAAAAAAAAAAAAAAAAAAAAAAAAAAAAAAAAAAAAAAAAAAAAAAAAAAAAAAAAAAAAAAAAAAAAAAAAAAAAAAAAAAAAAAAAAAAAAAAAAAAAAAAAAAAAAAAAAAAAAAAAAAAAAAAAAAAAAAAAAAAAAAAAAAAAAAAAAAAAAAAAAAAAAAAAAAAAAAAAAAAAAAAAAAAAAAAAAAAAAAAAAAAAAAAAAAAAAAAAAAAAAAAAAAAAAAAAAAAAAAAAAAAAAAAAAAAAAAAAAAAAAAAAAAAAAAAAAAAAAAAAAAAAAAAAAAAAAAAAAAAAAAAAAAAAAAAAAAAAAAAAAAAAAAAAAAAAAAAAAAAAAAAAAAAAAAAAAAAAAAAAAAAAAAAAAAAAAAAAAAAAAAAAAAAAAAAAAAAAAAAAAAAAAAAAAAAAAAAAAAAAAAAAAAAAAAAAAAAAAAAAAAAAAAAAAAAAAAAAAAAAAAAAAAAAAAAAAAAAAAAAAAAAAAAAAAAAAAAAAAAAAAAAAAAAAAAAAAAAAAAAAAAAAAAAAAAAAAAAAAAAAAAAAAAAAAAAAAAAAAAAAAAAAAAAAAAAAAAAAAAAAAAAAAAAAAAAAAAAAAAAAAAAAAAAAAAAAAAAAAAAAAAAAAAAAAAAAAAAAAAAAAAAAAAAAAAAAAAAAAAAAAAAAAAAAAAAAAAAAAAAAAAAAAAAAAAAAAAAAAAAAAAAAAAAAAAAAAAAAAAAAAAAAAAAAAAAAAAAAAAAAAAAAAAAAAAAAAAAAAAAAAAAAAAAAAAAAAAAAAAAAAAAAAAAAAAAAAAAAAAAAAAAAAAAAAAAAAAAAAAAAAAAAAAAAAAAAAAAAAAAAAAAAAAAAAAAAAAAAAAAAAAAAAAAAAAAAAAAAAAAAAAAAAAAAAAAAAAAAAAAAAAAAAAAAAAAAAAAAAAAAAAAAAAAAAAAAAAAAAAAAAAAAAAAAAAAAAAAAAAAAAAAAAAAAAAAAAAAAAAAAAAAAAAAAAAAAAAAAAAAAAAAAAAAAAAAAAAAAAAAAAAAAAAAAAAAAAAAAAAAAAAAAAAAAAAAAAAAAAAAAAAAAAAAAAAAAAAAAAAAAAAAAAAAAAAAAAAAAAAAAAAAAAAAAAAAAAAAAAAAAAAAAAAAAAAAAAAAAAAAAAAAAAAAAAAAAAAAAAAAAAAAAAAAAAAAAAAAAAAAAAAAAAAAAAAAAAAAAAAAAAAAAAAAAAAAAAAAAAAAAAAAAAAAAAAAAAAAAAAAAAAAAAAAAAAAAAAAAAAAAAAAAAAAAAAAAAAAAAAAAAAAAAAAAAAAAAAAAAAAAAAAAAAAAAAAAAAAAAAAAAAAAAAAAAAAAAAAAAAAAAAAAAAAAAAAAAAAAAAAAAAAAAAAAAAAAAAAAAAAAAAAAAAAAAAAAAAAAAAAAAAAAAAAAAAAAAAAAAAAAAAAAAAAAAAAAAAAAAAAAAAAAAAAAAAAAAAAAAAAAAAAAAAAAAAAAAAAAAAAAAAAAAAAAAAAAAAAAAAAAAAAAAAAAAAAAAAAAAAAAAAAAAAAAAAAAAAAAAAAAAAAAAAAAAAAAAAAAAAAAAAAAAAAAAAAAAAAAAAAAAAAAAAAAAAAAAAAAAAAAAAAAAAAAAAAAAAAAAAAAAAAAAAAAAAAAAAAAAAAAAAAAAAAAAAAAAAAAAAAAAAAAAAAAAAAAAAAAAAAAAAAAAAAAAAAAAAAAAAAAAAAAAAAAAAAAAAAAAAAAAAAAAAAAAAAAAAAAAAAAAAAAAAAAAAAAAAAAAAAAAAAAAAAAAAAAAAAAAAAAAAAAAAAAAAAAAAAAAAAAAAAAAAAAAAAAAAAAAAAAAAAAAAAAAAAAAAAAAAAAAAAAAAAAAAAAAAAAAAAAAAAAAAAAAAAAAAAAAAAAAAAAAAAAAAAAAAAAAAAAAAAAAAAAAAAAAAAAAAAAAAAAAAAAAAAAAAAAAAAAAAAAAAAAAAAAAAAAAAAAAAAAAAAAAAAAAAAAAAAAAAAAAAAAAAAAAAAAAAAAAAAAAAAAAAAAAAAAAAAAAAAAAAAAAAAAAAAAAAAAAAAAAAAAAAAAAAAAAAAAAAAAAAAAAAAAAAAAAAAAAAAAAAAAAAAAAAAAAAAAAAAAAAAAAAAAAAAAAAAAAAAAAAAAAAAAAMjAyMToxMjowNiAxOTowNTozMQAyMDIxOjEyOjA2IDE5OjA1OjMxAAAAagBlAHIAZQBtAAAA/+ELGGh0dHA6Ly9ucy5hZG9iZS5jb20veGFwLzEuMC8APD94cGFja2V0IGJlZ2luPSfvu78nIGlkPSdXNU0wTXBDZWhpSHpyZVN6TlRjemtjOWQnPz4NCjx4OnhtcG1ldGEgeG1sbnM6eD0iYWRvYmU6bnM6bWV0YS8iPjxyZGY6UkRGIHhtbG5zOnJkZj0iaHR0cDovL3d3dy53My5vcmcvMTk5OS8wMi8yMi1yZGYtc3ludGF4LW5zIyI+PHJkZjpEZXNjcmlwdGlvbiByZGY6YWJvdXQ9InV1aWQ6ZmFmNWJkZDUtYmEzZC0xMWRhLWFkMzEtZDMzZDc1MTgyZjFiIiB4bWxuczpkYz0iaHR0cDovL3B1cmwub3JnL2RjL2VsZW1lbnRzLzEuMS8iLz48cmRmOkRlc2NyaXB0aW9uIHJkZjphYm91dD0idXVpZDpmYWY1YmRkNS1iYTNkLTExZGEtYWQzMS1kMzNkNzUxODJmMWIiIHhtbG5zOnhtcD0iaHR0cDovL25zLmFkb2JlLmNvbS94YXAvMS4wLyI+PHhtcDpDcmVhdGVEYXRlPjIwMjEtMTItMDZUMTk6MDU6MzEuNTA2PC94bXA6Q3JlYXRlRGF0ZT48L3JkZjpEZXNjcmlwdGlvbj48cmRmOkRlc2NyaXB0aW9uIHJkZjphYm91dD0idXVpZDpmYWY1YmRkNS1iYTNkLTExZGEtYWQzMS1kMzNkNzUxODJmMWIiIHhtbG5zOmRjPSJodHRwOi8vcHVybC5vcmcvZGMvZWxlbWVudHMvMS4xLyI+PGRjOmNyZWF0b3I+PHJkZjpTZXEgeG1sbnM6cmRmPSJodHRwOi8vd3d3LnczLm9yZy8xOTk5LzAyLzIyLXJkZi1zeW50YXgtbnMjIj48cmRmOmxpPmplcmVtPC9yZGY6bGk+PC9yZGY6U2VxPg0KCQkJPC9kYzpjcmVhdG9yPjwvcmRmOkRlc2NyaXB0aW9uPjwvcmRmOlJERj48L3g6eG1wbWV0YT4NCiAgICAgICAgICAgICAgICAgICAgICAgICAgICAgICAgICAgICAgICAgICAgICAgICAgICAgICAgICAgICAgICAgICAgICAgICAgICAgICAgICAgICAgICAgICAgICAgICAgICAKICAgICAgICAgICAgICAgICAgICAgICAgICAgICAgICAgICAgICAgICAgICAgICAgICAgICAgICAgICAgICAgICAgICAgICAgICAgICAgICAgICAgICAgICAgICAgICAgICAgIAogICAgICAgICAgICAgICAgICAgICAgICAgICAgICAgICAgICAgICAgICAgICAgICAgICAgICAgICAgICAgICAgICAgICAgICAgICAgICAgICAgICAgICAgICAgICAgICAgICAgCiAgICAgICAgICAgICAgICAgICAgICAgICAgICAgICAgICAgICAgICAgICAgICAgICAgICAgICAgICAgICAgICAgICAgICAgICAgICAgICAgICAgICAgICAgICAgICAgICAgICAKICAgICAgICAgICAgICAgICAgICAgICAgICAgICAgICAgICAgICAgICAgICAgICAgICAgICAgICAgICAgICAgICAgICAgICAgICAgICAgICAgICAgICAgICAgICAgICAgICAgIAogICAgICAgICAgICAgICAgICAgICAgICAgICAgICAgICAgICAgICAgICAgICAgICAgICAgICAgICAgICAgICAgICAgICAgICAgICAgICAgICAgICAgICAgICAgICAgICAgICAgCiAgICAgICAgICAgICAgICAgICAgICAgICAgICAgICAgICAgICAgICAgICAgICAgICAgICAgICAgICAgICAgICAgICAgICAgICAgICAgICAgICAgICAgICAgICAgICAgICAgICAKICAgICAgICAgICAgICAgICAgICAgICAgICAgICAgICAgICAgICAgICAgICAgICAgICAgICAgICAgICAgICAgICAgICAgICAgICAgICAgICAgICAgICAgICAgICAgICAgICAgIAogICAgICAgICAgICAgICAgICAgICAgICAgICAgICAgICAgICAgICAgICAgICAgICAgICAgICAgICAgICAgICAgICAgICAgICAgICAgICAgICAgICAgICAgICAgICAgICAgICAgCiAgICAgICAgICAgICAgICAgICAgICAgICAgICAgICAgICAgICAgICAgICAgICAgICAgICAgICAgICAgICAgICAgICAgICAgICAgICAgICAgICAgICAgICAgICAgICAgICAgICAKICAgICAgICAgICAgICAgICAgICAgICAgICAgICAgICAgICAgICAgICAgICAgICAgICAgICAgICAgICAgICAgICAgICAgICAgICAgICAgICAgICAgICAgICAgICAgICAgICAgIAogICAgICAgICAgICAgICAgICAgICAgICAgICAgICAgICAgICAgICAgICAgICAgICAgICAgICAgICAgICAgICAgICAgICAgICAgICAgICAgICAgICAgICAgICAgICAgICAgICAgCiAgICAgICAgICAgICAgICAgICAgICAgICAgICAgICAgICAgICAgICAgICAgICAgICAgICAgICAgICAgICAgICAgICAgICAgICAgICAgICAgICAgICAgICAgICAgICAgICAgICAKICAgICAgICAgICAgICAgICAgICAgICAgICAgICAgICAgICAgICAgICAgICAgICAgICAgICAgICAgICAgICAgICAgICAgICAgICAgICAgICAgICAgICAgICAgICAgICAgICAgIAogICAgICAgICAgICAgICAgICAgICAgICAgICAgICAgICAgICAgICAgICAgICAgICAgICAgICAgICAgICAgICAgICAgICAgICAgICAgICAgICAgICAgICAgICAgICAgICAgICAgCiAgICAgICAgICAgICAgICAgICAgICAgICAgICAgICAgICAgICAgICAgICAgICAgICAgICAgICAgICAgICAgICAgICAgICAgICAgICAgICAgICAgICAgICAgICAgICAgICAgICAKICAgICAgICAgICAgICAgICAgICAgICAgICAgICAgICAgICAgICAgICAgICAgICAgICAgICAgICAgICAgICAgICAgICAgICAgICAgICAgICAgICAgICAgICAgICAgICAgICAgIAogICAgICAgICAgICAgICAgICAgICAgICAgICAgICAgICAgICAgICAgICAgICAgICAgICAgICAgICAgICAgICAgICAgICAgICAgICAgICAgICAgICAgICAgICAgICAgICAgICAgCiAgICAgICAgICAgICAgICAgICAgICAgICAgICAgICAgICAgICAgICAgICAgICAgICAgICAgICAgICAgICAgICAgICAgICAgICAgICAgICAgICAgICAgICAgICAgICAgICAgICAKICAgICAgICAgICAgICAgICAgICAgICAgICAgICAgICAgICAgICAgICAgICAgICAgICAgICAgICAgICAgICAgICAgICAgICAgICAgICAgICAgICAgICAgICAgICAgICAgICAgIAogICAgICAgICAgICAgICAgICAgICAgICAgICAgPD94cGFja2V0IGVuZD0ndyc/Pv/bAEMABwUFBgUEBwYFBggHBwgKEQsKCQkKFQ8QDBEYFRoZGBUYFxseJyEbHSUdFxgiLiIlKCkrLCsaIC8zLyoyJyorKv/bAEMBBwgICgkKFAsLFCocGBwqKioqKioqKioqKioqKioqKioqKioqKioqKioqKioqKioqKioqKioqKioqKioqKioqKv/AABEIAHAC+QMBIgACEQEDEQH/xAAfAAABBQEBAQEBAQAAAAAAAAAAAQIDBAUGBwgJCgv/xAC1EAACAQMDAgQDBQUEBAAAAX0BAgMABBEFEiExQQYTUWEHInEUMoGRoQgjQrHBFVLR8CQzYnKCCQoWFxgZGiUmJygpKjQ1Njc4OTpDREVGR0hJSlNUVVZXWFlaY2RlZmdoaWpzdHV2d3h5eoOEhYaHiImKkpOUlZaXmJmaoqOkpaanqKmqsrO0tba3uLm6wsPExcbHyMnK0tPU1dbX2Nna4eLj5OXm5+jp6vHy8/T19vf4+fr/xAAfAQADAQEBAQEBAQEBAAAAAAAAAQIDBAUGBwgJCgv/xAC1EQACAQIEBAMEBwUEBAABAncAAQIDEQQFITEGEkFRB2FxEyIygQgUQpGhscEJIzNS8BVictEKFiQ04SXxFxgZGiYnKCkqNTY3ODk6Q0RFRkdISUpTVFVWV1hZWmNkZWZnaGlqc3R1dnd4eXqCg4SFhoeIiYqSk5SVlpeYmZqio6Slpqeoqaqys7S1tre4ubrCw8TFxsfIycrS09TV1tfY2dri4+Tl5ufo6ery8/T19vf4+fr/2gAMAwEAAhEDEQA/APpGiiigAooooAKKKKACiiigAooooAKKKKACiiigAooooAKKKKACiiigAooooAKKKKACiiigAooooAKKKKACiiigAooooAKKKKACiiigAooooAKKKKACiiigAooooAKKKKACiiigAooooAKKKKACiiigAooooAKKKKACiiigAooooAKKKKACiiigAooooAKKKKACiiigAooooAKKKKACiiigAooooAKKKKACiiigAooooAKKKKACiiigAooooAKKKKACiiigBnnR+cIfMXzSu4JnnHrj0pVljd3VHVmjOHAOSpxnB/CsPUbWS48RLJbNtuYLTfCSeCd/3T7EcVWtdRWVNSmTz4nmu44gkYAcPsUFctwOQRmktv672A6eiuYN5eLFc24nkjMd9BErFw7KrbcgnHPU9c0tw11bx6mUv7k/YZEaLcwOcqCQ3HI5p+f9dP8AMDpqK526ub2W61BkmeE2rARfvVSNRtB3MD1BJP4dK6FCSilsZI5xQAtFFFABRRRQAUUUUAFFFFABRRRQAUUUUAFFFFABRRRQAUUUUAFFFFABRRRQAVWi1Kynumt4buCSdesayAsPwqeXaIX3khdpyR1Arn7Vls4tMiLW17ZtIqW0iArIhwcHHIbjqePpR1DodFTUlSXd5bq+1irbTnBHasCLUZTptruuf3zagYmG75iolYbfyxUDu9va6pdw3rpLBduUhBG1jkfKRjnPT+VC3/ry/wAwf9fj/kdRUc88VtEZJ3WNAQCzHjk4FYF7Nd41W4S8mjNpKnlIpG0fIpIIxz1NF5cXNlJfQR3czqq28itIQSpaQq2DjoQOlCA6LcOeRx156UoORkciufW2zea9+/mBIHAf1jB/+t9KihedbbSbOGSYxS2xkJSQKzEBcLuPYZPA9KFqD0OlpqSpLu8t1faxVtpzgjtWDHPdTy2NpcXhRJDMTLE67pNhAVSw4zgnOPSrXh85t7zEvnf6ZIPM/vdOeKAehrUUUUAFFFFABRRRQAUUUUAFFFFABRRRQAVEbq3EMkpnjEcZIdy4wpHXJ7VLXNXkIfVp9IYEx300dwR/sAfP+qD/AL6oA6IzRh0QyKGkzsGeWx6etE08dtC807iONBlmY8AVzNrdcSzTvIp0u1NsXUAt5hbBIB4zhVPPHNLcXt5ax6nEJJkMdkJkEsod0YkjOR06dKOoHThgehB79aCwBwSM4zisezix4qvnMshPkQnaW4Od/b2pbiHPi62cyyL/AKJIQobg4ZOKANWCeK5hWaB1kjcZVlPBp9c1YzXV/wD2dFJeTxiWyeRzGwBZgygHOPen6dc3Z/sq4kupZWu43EqNjacKSMADg8UPTUDoqK53TLm9m+xXUkzg3DYlSSVNp4OVVeoI/Pg5roqACiiigAooooAhuby2sow95cRQIxwGlcKCfTmi2u7e8jMlpPHOgOC0bhgD6cVm68ZRcaWYGjWT7UcGXO3/AFb9cUt7cXVvpYuGlia4jlXYlvnbNk42c55Ofw60Aa9Fc79rupbbT1E0jG7d2mKOEKsP+WYJ6Y5Hr8tPE9032a0mumSOW4kjMqSKXwFyELDgNn8eKAN+gkDqcduaxTcPb3OnxrfmeJrqSN3Yj+4xCE9yDiqV1Ib6Is1y5SPVVjRkfgD5f5Gjrb+un+YPRf15/wCR0aTxSSyRxurPEQHUHlcjIzUlc/c3txHcXsS3DRoLqCHzOP3asoyRn1J6+9MvLi5tftdrb3krrG1vtlYhmjLvgrnvxzz60AdHTWkRFZnYAIMsSeg9azbAyw6zd2jXEs0SxRyr5pyVLFgefT5RVXYYte1aVZpAy2qMo3cfx9vah6K4I3I5EmiSSJg6OAysOhB706uW+0Xc9tdSfbZozb6fDOgQjlyrEk8c9OlWHuruzeZ45pbhn09rgJJggOMdABwOelN6O39f1oC1Sf8AXT/M6GisXTXuReQbp3kjmhLMJpkYseMMoHQc8445FbVIAooooAKKKKACiiigAooooAgur21sow95cRQKTgGRwuT+NSxypNGskLrIjDKspyCPrWZfx7tYge1uYY7xIWCxToSroSM4PGDkdvyqlBd/aFtLaL/QYpp5lmaB+GdeytjoTk/gaAOiorDklcyWdmuou8MssitOpAclRxHu9evI5+WoDc3UjRWq3cuwagYBOuNzp5ZbGcYyDxn2oA6OiubmmvPNvljuJYzZkJEzzKqgbAdz565J5J/CujQkopbGSOcUALRRRQAUUUUAN8tPN83Yvmbdu/HOPTPpUb2dtKkqSW8TrMcyKyAhz6n16VkXmu3Fp4ytdNeKM2M8A3S4O5JWLbR6bSEI+pFRy+Ibj/hMm0m3ijNrFZySSSnO7zl2HYOegVwT/vCldWv6/gOzvY2ksbSJNkdrCi5VtqxgDK9D+GOKe1tA4kDwxsJceZlAd+OmfWuV0zxdd3ngebUbmCGHVIbJblohkxsGXcjjnO09OvBBHart7r13bDWfLhjf7C0Kx/KTtDgFnbB5C5JOMcCql7rsyU77G1NY2lxMk09rDLLH9x3jBK/Qmp6xLCfVLy2la21XTLyORMwXkEBKo2eQUEh3DHcMKpaZqurINQvNa1CxNlp88kUqwWDq7hVB3A+a2OvTBpdbBc6iistteghs5Li7trq1EckcZWaLBJdgqkYJB5I78d8VFrWvx6bBdiIjzrRYJJN6kqEkk2546nCt+lGwzZoqhY6vDe3T2xhuLadU8wR3Eewumcbh6jP4jjIGaiubqZ/EltZxEiOO2e4kAON5yFRfpyx/AUAalFc5BfavfQ63a3Jt7a6tVUwG3LEISm4AsfvYPfAB9K2bG+S70e3v2xHHNAsxyfugrmjpcC1RWTD4kspY3lljubaAQtOk08JVZI1GSw/A5wcH2py6/ALSa5ntru3jiVXYzQ4yjHAbPTHcjqB1FAGpRVdL6GTUpLJNxmiiWV8DhQxIHPqdp/KrFABRRRQAUUUUAFFFFABRRRQAUUUUAFFFFABVeLT7OC4aeG0gjmbrIkYDH8akuJPKtpZAdu1C2cZxgeneqGmazBeLDD5plnNlFds4j2BlfIBxk4yVPGTij+v6+4P6/r7y59htPPab7LD5rEMz+WNxI6HNI1hZtOszWsBlUllcxjcCe4NZ48TWbwwSW0N1c+dbLdbYYtzRxN0Zh74PAyeDxT4tZaXxNNpX2SUJHbxzCcjg7iwxj/gP55p2dwNFraBhIGhjIlOZAUHz/X16Cke2gkZmkgjcsAGLIDkA5GfoeaqX2sw2N4lp5FxcXEkRlSKCPcSoIB9AOo61F/wkVm8FrJaJcXT3UZkjhhiO/aCASQcbcE455zxSA0fs8P2jz/Jj87bt8zaN230z1xUTadZPbfZ2s7cw7t3lmJdufXGMZqvDrthP5RjlO2WB51LKV+VCA4IPIIJ5BpLHXrLUUsmtjIftsbyRqyYIVCA24HpgkD6mgC3JY2k1stvLawvCuNsbRgqMeg6VJHDHCpEMaRgnJCqBk+tPooAKKKKACiiigAooooAKKKKACiiigAooooAKYYYzMspjUyKCocqNwB6jNPrE/tPUU8XwafPFbpZz280ke0lpCUZBkngAHeeMHoOe1C1dgNf7NBtlHkx4mOZBsHznGOfXioo9NsYo2jis7dEZdrKsSgEdcEY6VHf6pFYSwwmKa4nnDGOGBcsQuNx5IAAyOp7iop9cgiWDy7e7nlnj81YY4TvVOMlgcbevQ8+gNAF428JuFnMMZmUbVkKjcB6A0SW8M0kbyxRu8ZyjMoJU+o9Kz5PEFoIrZrZJ7t7pDJHFBES+wYBJBxtwSBzg5460Sa/ahYPs8VzdSTx+asMMR3hAcEsDjbgnGDz7cUAX47aCIoYoY0KKUUqgG1fQeg4pVtoEEYSGNRF/qwEA2fT0rNfxJZf6KLdLi6e7ieWGOGIlmCEBgQcbSCw4OO460v8AwkVm9rbTW6T3D3O4RwRRHzPkOHyDjbtPBzjnjuKALyWNpHctcx2sKTt96VYwGP49anrAsvE8c9s8jwyyu95JbW8MMRDvsGSCGIwQAc5IHFbVtcLdWyTIkiBx92VCrD2INC2uHUlooooAKKKKAIbm0tryMJd28U6A5CyoGAPrzTYbCzt1Vbe0giCtvUJGFw2MZGO+OM1V1a9uoZrOz0/y1ubyQqJJULrGqqWZtoIz0AAyOTRpF7czveWmoeW1zZzCNpIlKrIpUMrBSTjg4IyeQaALkllaywvFLbQvG7bnRkBDH1I7mkNlatai1a2hNuOBEYxt/LpVWDW4Li+NvDBcuglaH7QsRMe9c7lz1GMEZxjPGc0xPEFpJdrEI7gRPKYUuTEfKaQEjaG+oIzjBPANAbF1rG0a1Fs1rC1uOkRjBUfh0pTZWrQPCbaExOctGYxtb6jv0qlDr9rPdiGOK4MTSGFbnyj5TOCQVDfUEZxjPGabF4is5rlEVLgQySeVFdNERFI+SNob6ggEgA9ic0bgaH2WDbIvkR7ZBhxsGH4xz68cU2OxtIbfyIrWFIt27y1jAXOc5x65rOj8T2MkyqI7kRNcNa/aDCRGsocptJ9yMA9OnNV9W8UR2ltcNaQyyeVKIftDREw+ZvClc5684z0zxnPFHmGxvCKMStKEUSMApcDkgdBn8TTHtoJJhLJBG0gUqHZASAeoz6VTGtQPqD2sUFzII5RDJOkRMaOQDtJ69COQMDuRWjQBELW3CsogiAdBGw2D5lHRT7cninCGIOHEaBlXYGCjIX0+ntT6KAIILG0tXd7W2hhZ/vNHGFLfXFT0UUAFFFFABRRRQAUUUUAFFRXVwlpZzXEv3IY2kbHoBmsS01PVYZ9MfVTamHUzsWKGJla3coXALFjvGFIJwOcfSjd2A2rmztrxAl3bxTqDkCVAwH50PZ20lqLaS3iaADAiZAVH4dKztQvL+TWotN02W3tmMDTvLPEZNwDBQqqGX15OeOPXNZd14l1F/Cn9qadFZloXdLh3ZmTckmwhFGCckEgk8D1o6XB6HSNZWr2otntoWtxwIjGNo/DpTltbdI40SCNUiOY1CABD7enU1l63eX1mfMjvtP0+1VOJbtC5lkOfkA3Ljge5OegxzFd3erNosOppd2mlxraia5iurNpmQ7ckZEiYx0xijpcOtjXmsbS4mSae1hllj+47xgsv0JqeuYu9X1+x0PTbqeCzWWSSBbskMMGSVV2qmTggN1LHBHQ9unp2DzCiiikAUUUUAYmq6FLqN5dyiREElokcLc7o5UdnVsY6AlT+FV7Lw/dw3Flc3EsDzrb3P2tlJw80xQ5Xj7o2kc84Aro6KSVlb+tR3d7nJXfhG7m8F2Gn29xDDqVpZLaNLyY5F2hXQ8ZwcZBxkEA+orU/szUYLvVbqymgSW6eF4fMBI+RQGVuOM4IyM4zn2rZoqpNyd2SkkYWl6Zff29Jqt/a2Vi7QGJorOZpfOO4He7FE5GMDg/ePNPh0e4i0/V4WW1ma9uZJUjmUvGysANrjj0Oev41tUUv+G/UfW/9djlF8N6hLpt/BIYbZZTC9taC6knjjeNt+dzKCoYhRtAwAM9SaW60LWdROpT3Bsbae7hto4kjkeVYzFKzkklV3cMOw9Pc9VRQPpYyLOy1CbWhqOqJbQGGBoIY7eVpNwZlLMxKrj7i4GDjnnmpp7SYeIrW+hG6MwSW8wyBgEhlb8CpH/Aq0aKO39f1uIxZdOvYJdbubYJJJeqgt1DYIIj25bPA5578VKdLlGmJpC+X/Z/2E2zybj5oO0KMDGMYzznritWilbSwdbmLbQ669q1reR6YsaW5jVwXlEzYwCyELtX1XLdcZ4ya+laFcxtdxX0MNtYz24h+xQXUk8eecsN6rsGDjaox3roqKb13BabGR4d0u70yzk/tOdLi8lfLyJnBVQETr/sqCfcmteiijcAooooAKKKKACiiigAooooAKKKKACiiigCpqkscGk3ckzhEELZJ+lc/p2k6pa2+nXVjFbeY+lw2lwlzIyGLaCQwAU7iNzZU7frXV0Urf19/+Yf1+X+RyL+G9STR9PtIobGS4trGO2F0tzLBLC4GCVZVJde+07enPXjXg069t/EK3heKeKSzjt53ZirhkLEMFAIOd/PIxjvWvRVXbdw/r+vuM59PlbxNDqIZPJjtHgK5O7czqwPTGMKe9Zlro2qaUYbixW0uZwksUsUszRqVaVnUhwjEEbiCNvOevHPSUUu3l/X6itrf+un+Ry914WuZtGtreO4iW5+0yS3L4IVkmZjMi/g/HuozV/TNElsddvruR4zbycWsaA5jDHdJn6vzx6Ctmijrcb13CiiigAooooAKKKKACiiigAooooAKKKKACiiigArNuNOml8TWWoqyCG3tpomUk7iXaMjHHT5D+laVFHW4GRr2nXF/5Bt7O0uvL3cTzPBIhI4ZJUBK9wRjnPXjBzJPDmoJ9kuWMOpXSWot5lnupIQcMWVg6hicZIORk8HOevVUUAc9FpGoaW1tcaXDYySrbmGa3aV4o+W37lbDngluo5znjGKmks9XgvYtRtlsrm6e2EFxFJI8KZDFgysFc8biMEc8HjGK26KAOf07w9cWOpafcvNE4ghuRPjIzJNIsh2j+6CG6n0qK30PUtNeC7s/ss9xHLdhoZJWRGjmm8wHcFJDDC9sdfY10tFO7HfSxy/9g6h/Z7Lc2+nX0z3slyUeR4tgboUkAJVh0zjkdxWzolpdWOkQ29/P586liW3s+0FiQu5uW2ggbjycZNX6KS0VhBRRRQAUUUUAZur2V1PJaXmneUbqzkLLHM5VJVZSrKWAJHUHODyBxRo9jc25u7rUDH9qvJRI6QsWSMBQqqGIBbhc5wOSeK0qKAOcXRtQGvrdRR2lpH9oMss9tPIpnTB+V4cbC3TLFieMjGcCCy8M3FpcwQNbWctrDP5q3L3MpcgNuUeVjaGHA3bscZx2rqqKFoD1MTTLPV9O8qwVbM2ELti4MjmVkJJC7NuAeQN249M454rQ6JqQtrTSpvso06znSRbhZWMsio+5FKbcA5ABbcc4PHPHSUULQDnU8P3S6GbMyQ+Z/an2zO442fafNx067ePTPfvUNzomsHT7nSrQ2f2SW5M6XEkjeYA0vmFCgXHUkBt3THFdRRR0t/X9aDbuc3daLqEuui5tY7S1BuEle8gnkSSRBjKPEBtckDbktwDkAECukooo6WEFFFFABRRRQAUUUUAFFFFABRRRQBFc26XdpNby8xzIyNj0Iwaw7XS9Ylm09NTNp5OmZaKWKRi1y+worMpUBBhiSAW5roaKAMDU9O1G/hs5Liw0q9lRCJred2VEc4yySbGOOowVGR6Uk3h2QeDZtItmhWaXLltuyPe0m9sAZwMk4/Cugoo6WB6mRqkOrSXDC0t9PvrSRApgvHaPy25y2QjbgQehA6deaiXQrgaXpOmyzrLbWpVrljkGXYMqoH93dg8nooHOa3KKAM3XtOm1TTUt7dkV1uYJSXJAwkquegPOFNaVFFHSwBRRRQAUUUUAcbr3xA/sTW7jT/7M8/ydv7z7RtzlQ3TafWs7/hav/UG/8mv/ALCue8ef8jtf/wDbP/0Wtc6TgZNfN1sdiI1ZRUtE30R5s69RSaTPQ/8Ahav/AFBv/Jr/AOwo/wCFq/8AUG/8mv8A7CvNLfUbK7kaO1u4ZnX7yxyBiPyqxWbx2KW8vwX+RPt6vc9D/wCFq/8AUG/8mv8A7Cj/AIWr/wBQb/ya/wDsK88opfX8T/N+C/yF9Yqdz0P/AIWr/wBQb/ya/wDsKP8Ahav/AFBv/Jr/AOwrzqSRIl3SuqLkDLHAyTgD86dR9fxP834L/If1ir3PQ/8Ahav/AFBv/Jr/AOwo/wCFq/8AUG/8mv8A7CvPAQSQDyOvtRR9fxP834L/ACF9Yq9z0P8A4Wr/ANQb/wAmv/sKP+Fq/wDUG/8AJr/7CvPKKPr+J/m/Bf5B9Yqdz0P/AIWr/wBQb/ya/wDsKP8Ahav/AFBv/Jr/AOwrzyij6/if5vwX+QfWKnc9D/4Wr/1Bv/Jr/wCwo/4Wr/1Bv/Jr/wCwrzyij6/if5vwX+QfWKnc9D/4Wr/1Bv8Aya/+wo/4Wr/1Bv8Aya/+wrzyij6/if5vwX+QfWKnc9D/AOFq/wDUG/8AJr/7Cj/hav8A1Bv/ACa/+wrzyij6/if5vwX+QfWKnc9D/wCFq/8AUG/8mv8A7Cj/AIWr/wBQb/ya/wDsK88oo+v4n+b8F/kH1ip3PQ/+Fq/9Qb/ya/8AsKP+Fq/9Qb/ya/8AsK88oo+v4n+b8F/kH1ip3PQ/+Fq/9Qb/AMmv/sKP+Fq/9Qb/AMmv/sK88oo+v4n+b8F/kH1ip3PQ/wDhav8A1Bv/ACa/+wo/4Wr/ANQb/wAmv/sK88oo+v4n+b8F/kH1ip3PQ/8Ahav/AFBv/Jr/AOwo/wCFq/8AUG/8mv8A7CvPKKPr+J/m/Bf5B9Yqdz0P/hav/UG/8mv/ALCj/hav/UG/8mv/ALCvPKKPr+J/m/Bf5B9Yqdz0P/hav/UG/wDJr/7Cj/hav/UG/wDJr/7CvPKKPr+J/m/Bf5B9Yqdz0P8A4Wr/ANQb/wAmv/sKP+Fq/wDUG/8AJr/7CvPKKPr+J/m/Bf5B9Yqdz0P/AIWr/wBQb/ya/wDsKP8Ahav/AFBv/Jr/AOwrzyij6/if5vwX+QfWKnc9D/4Wr/1Bv/Jr/wCwo/4Wr/1Bv/Jr/wCwrzyij6/if5vwX+QfWKnc9D/4Wr/1Bv8Aya/+wo/4Wr/1Bv8Aya/+wrzyij6/if5vwX+QfWKnc9D/AOFq/wDUG/8AJr/7Cj/hav8A1Bv/ACa/+wrzyij6/if5vwX+QfWKnc9D/wCFq/8AUG/8mv8A7Cj/AIWr/wBQb/ya/wDsK88oo+v4n+b8F/kH1ip3PQ/+Fq/9Qb/ya/8AsKP+Fq/9Qb/ya/8AsK88oo+v4n+b8F/kH1ip3PQ/+Fq/9Qb/AMmv/sKP+Fq/9Qb/AMmv/sK88oo+v4n+b8F/kH1ip3PQ/wDhav8A1Bv/ACa/+wo/4Wr/ANQb/wAmv/sK88oo+v4n+b8F/kH1ip3PQ/8Ahav/AFBv/Jr/AOwo/wCFq/8AUG/8mv8A7CvPKKPr+J/m/Bf5B9Yqdz0P/hav/UG/8mv/ALCj/hav/UG/8mv/ALCvPKKPr+J/m/Bf5B9Yqdz0P/hav/UG/wDJr/7Cj/hav/UG/wDJr/7CvPKKPr+J/m/Bf5B9Yqdz0P8A4Wr/ANQb/wAmv/sKP+Fq/wDUG/8AJr/7CvPKKPr+J/m/Bf5B9Yqdz0P/AIWr/wBQb/ya/wDsKP8Ahav/AFBv/Jr/AOwrzyij6/if5vwX+QfWKnc9D/4Wr/1Bv/Jr/wCwo/4Wr/1Bv/Jr/wCwrzyij6/if5vwX+QfWKnc9D/4Wr/1Bv8Aya/+wo/4Wr/1Bv8Aya/+wrzyij6/if5vwX+QfWKnc9D/AOFq/wDUG/8AJr/7Cj/hav8A1Bv/ACa/+wrzyij6/if5vwX+QfWKnc9D/wCFq/8AUG/8mv8A7Cj/AIWr/wBQb/ya/wDsK88oo+v4n+b8F/kH1ip3PQ/+Fq/9Qb/ya/8AsKP+Fq/9Qb/ya/8AsK88oo+v4n+b8F/kH1ip3PQ/+Fq/9Qb/AMmv/sKP+Fq/9Qb/AMmv/sK88oo+v4n+b8F/kH1ip3PQ/wDhav8A1Bv/ACa/+wo/4Wr/ANQb/wAmv/sK88oo+v4n+b8F/kH1ip3PQ/8Ahav/AFBv/Jr/AOwo/wCFq/8AUG/8mv8A7CvPKKPr+J/m/Bf5B9Yqdz0P/hav/UG/8mv/ALCj/hav/UG/8mv/ALCvPKKPr+J/m/Bf5B9Yqdz0P/hav/UG/wDJr/7Cj/hav/UG/wDJr/7CvPKKPr+J/m/Bf5B9Yqdz0P8A4Wr/ANQb/wAmv/sKP+Fq/wDUG/8AJr/7CvPKKPr+J/m/Bf5B9Yqdz0P/AIWr/wBQb/ya/wDsKP8Ahav/AFBv/Jr/AOwrzyij6/if5vwX+QfWKnc9D/4Wr/1Bv/Jr/wCwo/4Wr/1Bv/Jr/wCwrzyij6/if5vwX+QfWKnc9D/4Wr/1Bv8Aya/+wo/4Wr/1Bv8Aya/+wrzyij6/if5vwX+QfWKnc9D/AOFq/wDUG/8AJr/7Cu70+7+36Za3ezy/tEKS7M527lBxnv1rwGvdfD//ACLOl/8AXnF/6AK9LL8TVrSkqjudOHqTm3zM0aKKK9c7AooooA8b8ef8jtf/APbP/wBFrXGa9u/sWfGdvy+Zjrs3Df8A+O5rs/Hn/I7X/wD2z/8ARa1ztfIV3bESfm/zPIm7VG/MoyNpzz2XMZkyTbeX/unOMfw4/DpWbDdXH2W1vvtUjTz3Iie3JG0AsQVAxwVHOevFbMFjaWrs9tbQws/3mjjCk/XFKtlardG5W2hE7dZRGNx/HrUKcUTdWsYYku3iW4+3TqzX7QbQRtCFyuMY6+9NkuriFzbG9kVE1JYRKxBbY0e7Gfqa6D7PCF2iGPAfeBtH3s53fXPOagutNhumiO1U2zCZwEH7w7SuD+B/SrVSN9UVzJsx7yR1iu7UzPPFDcWxV3OSCXGVJ744P40+S5vJZruZZXjaC48tA0qLGoBGAwPXcO/XnitqOytYrcQRW0KRA7hGsYC5znOPXND2VrJcrcSW0LzL92RowWH0PWl7SPb+tP8AIXMrWMN3ksZ9duYJHMiFCoY5Ayi/Nj2/pV7TzcJf+W8rtE0O/bNMrtnIwwx2OT7dMVoG3hM5mMMfmldhk2jdt9M+lNt7O1tN32W3ig3nLeWgXP1xSdRNA5JomooorEgKKKKACiiigAooooAKKKKACiiigAooooAKKKKACiiigAooooAKKKKACiiigAooooAKKKKACiiigAooooAKKKKACiiigAooooAKKKKACiiigAooooAKKKKACiiigAooooAKKKKACiiigAooooAKKKKACiiigAooooAKKKKACiiigAooooAKKKKACiiigAooooAKKKKACiiigAooooAK918P/wDIs6X/ANecX/oArwqvdfD/APyLOl/9ecX/AKAK9jKvjl6HZhfiZo0UUV753hRRRQBxuvfD/wDtvW7jUP7T8jztv7v7PuxhQvXcPSs7/hVX/UZ/8lf/ALOvQ6K45YHDyk5OOr82YuhTbu0eef8ACqv+oz/5K/8A2dH/AAqr/qM/+Sv/ANnXodFT9Qw38v4v/MX1en2PPP8AhVX/AFGf/JX/AOzo/wCFVf8AUZ/8lf8A7OvQ6KPqGG/l/F/5h9Xp9jzz/hVX/UZ/8lf/ALOj/hVX/UZ/8lf/ALOvQ6KPqGG/l/F/5h9Xp9jzz/hVX/UZ/wDJX/7Oj/hVX/UZ/wDJX/7OvQ6KPqGG/l/F/wCYfV6fY88/4VV/1Gf/ACV/+zo/4VV/1Gf/ACV/+zr0Oij6hhv5fxf+YfV6fY88/wCFVf8AUZ/8lf8A7Oj/AIVV/wBRn/yV/wDs69Doo+oYb+X8X/mH1en2PPP+FVf9Rn/yV/8As6P+FVf9Rn/yV/8As69Doo+oYb+X8X/mH1en2PPP+FVf9Rn/AMlf/s6P+FVf9Rn/AMlf/s69Doo+oYb+X8X/AJh9Xp9jzz/hVX/UZ/8AJX/7Oj/hVX/UZ/8AJX/7OvQ6KPqGG/l/F/5h9Xp9jzz/AIVV/wBRn/yV/wDs6P8AhVX/AFGf/JX/AOzr0Oij6hhv5fxf+YfV6fY88/4VV/1Gf/JX/wCzo/4VV/1Gf/JX/wCzr0Oij6hhv5fxf+YfV6fY88/4VV/1Gf8AyV/+zo/4VV/1Gf8AyV/+zr0Oij6hhv5fxf8AmH1en2PPP+FVf9Rn/wAlf/s6P+FVf9Rn/wAlf/s69Doo+oYb+X8X/mH1en2PPP8AhVX/AFGf/JX/AOzo/wCFVf8AUZ/8lf8A7OvQ6KPqGG/l/F/5h9Xp9jzz/hVX/UZ/8lf/ALOj/hVX/UZ/8lf/ALOvQ6KPqGG/l/F/5h9Xp9jzz/hVX/UZ/wDJX/7Oj/hVX/UZ/wDJX/7OvQ6KPqGG/l/F/wCYfV6fY88/4VV/1Gf/ACV/+zo/4VV/1Gf/ACV/+zr0Oij6hhv5fxf+YfV6fY88/wCFVf8AUZ/8lf8A7Oj/AIVV/wBRn/yV/wDs69Doo+oYb+X8X/mH1en2PPP+FVf9Rn/yV/8As6P+FVf9Rn/yV/8As69Doo+oYb+X8X/mH1en2PPP+FVf9Rn/AMlf/s6P+FVf9Rn/AMlf/s69Doo+oYb+X8X/AJh9Xp9jzz/hVX/UZ/8AJX/7Oj/hVX/UZ/8AJX/7OvQ6KPqGG/l/F/5h9Xp9jzz/AIVV/wBRn/yV/wDs6P8AhVX/AFGf/JX/AOzr0Oij6hhv5fxf+YfV6fY88/4VV/1Gf/JX/wCzo/4VV/1Gf/JX/wCzr0Oij6hhv5fxf+YfV6fY88/4VV/1Gf8AyV/+zo/4VV/1Gf8AyV/+zr0Oij6hhv5fxf8AmH1en2PPP+FVf9Rn/wAlf/s6P+FVf9Rn/wAlf/s69Doo+oYb+X8X/mH1en2PPP8AhVX/AFGf/JX/AOzo/wCFVf8AUZ/8lf8A7OvQ6KPqGG/l/F/5h9Xp9jzz/hVX/UZ/8lf/ALOj/hVX/UZ/8lf/ALOvQ6KPqGG/l/F/5h9Xp9jzz/hVX/UZ/wDJX/7Oj/hVX/UZ/wDJX/7OvQ6KPqGG/l/F/wCYfV6fY88/4VV/1Gf/ACV/+zo/4VV/1Gf/ACV/+zr0Oij6hhv5fxf+YfV6fY88/wCFVf8AUZ/8lf8A7Oj/AIVV/wBRn/yV/wDs69Doo+oYb+X8X/mH1en2PPP+FVf9Rn/yV/8As6P+FVf9Rn/yV/8As69Doo+oYb+X8X/mH1en2PPP+FVf9Rn/AMlf/s6P+FVf9Rn/AMlf/s69Doo+oYb+X8X/AJh9Xp9jzz/hVX/UZ/8AJX/7Oj/hVX/UZ/8AJX/7OvQ6KPqGG/l/F/5h9Xp9jzz/AIVV/wBRn/yV/wDs6P8AhVX/AFGf/JX/AOzr0Oij6hhv5fxf+YfV6fY88/4VV/1Gf/JX/wCzo/4VV/1Gf/JX/wCzr0Oij6hhv5fxf+YfV6fY88/4VV/1Gf8AyV/+zo/4VV/1Gf8AyV/+zr0Oij6hhv5fxf8AmH1en2PPP+FVf9Rn/wAlf/s6P+FVf9Rn/wAlf/s69Doo+oYb+X8X/mH1en2PPP8AhVX/AFGf/JX/AOzo/wCFVf8AUZ/8lf8A7OvQ6KPqGG/l/F/5h9Xp9jzz/hVX/UZ/8lf/ALOj/hVX/UZ/8lf/ALOvQ6KPqGG/l/F/5h9Xp9jzz/hVX/UZ/wDJX/7Oj/hVX/UZ/wDJX/7OvQ6KPqGG/l/F/wCYfV6fY88/4VV/1Gf/ACV/+zo/4VV/1Gf/ACV/+zr0Oij6hhv5fxf+YfV6fY88/wCFVf8AUZ/8lf8A7Oj/AIVV/wBRn/yV/wDs69Doo+oYb+X8X/mH1en2PPP+FVf9Rn/yV/8As6P+FVf9Rn/yV/8As69Doo+oYb+X8X/mH1en2PPP+FVf9Rn/AMlf/s6P+FVf9Rn/AMlf/s69Doo+oYb+X8X/AJh9Xp9jzz/hVX/UZ/8AJX/7Ou70+0+waZa2m/zPs8KRb8Y3bVAzjt0qxRW1LDUqLbpqxcKcIfCgoooroND/2Q==)"
      ]
    },
    {
      "cell_type": "markdown",
      "metadata": {
        "id": "VKmWxu7c2tMr"
      },
      "source": [
        ""
      ]
    }
  ]
}