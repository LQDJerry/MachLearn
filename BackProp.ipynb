{
  "nbformat": 4,
  "nbformat_minor": 0,
  "metadata": {
    "colab": {
      "name": "BackProp.ipynb",
      "provenance": [],
      "collapsed_sections": [],
      "authorship_tag": "ABX9TyP25kqb4wtFHnr0PhbHw7P3",
      "include_colab_link": true
    },
    "kernelspec": {
      "name": "python3",
      "display_name": "Python 3"
    },
    "language_info": {
      "name": "python"
    }
  },
  "cells": [
    {
      "cell_type": "markdown",
      "metadata": {
        "id": "view-in-github",
        "colab_type": "text"
      },
      "source": [
        "<a href=\"https://colab.research.google.com/github/LQDJerry/MachLearn/blob/main/BackProp.ipynb\" target=\"_parent\"><img src=\"https://colab.research.google.com/assets/colab-badge.svg\" alt=\"Open In Colab\"/></a>"
      ]
    },
    {
      "cell_type": "markdown",
      "metadata": {
        "id": "sdytRU7tL3Sz"
      },
      "source": [
        "## Back Propogation "
      ]
    },
    {
      "cell_type": "code",
      "metadata": {
        "id": "ykzr0MItKVFr"
      },
      "source": [
        "#import libraries needed\n",
        "import numpy as np\n",
        "import math\n",
        "import random\n",
        "from sklearn.metrics import accuracy_score\n",
        "import matplotlib.pyplot as plt\n",
        "import pandas as pd"
      ],
      "execution_count": 45,
      "outputs": []
    },
    {
      "cell_type": "markdown",
      "metadata": {
        "id": "U7kfqb4DPDGP"
      },
      "source": [
        "Setting up what is given:"
      ]
    },
    {
      "cell_type": "code",
      "metadata": {
        "id": "BsRSbxawPEg1"
      },
      "source": [
        "data = [((0,0),0),((0,1),1),((1,0),1),((1,1),0)]\n",
        "trainingData = [((1,0,0),0),((1,0,1),1),((1,1,0),1),((1,1,1),0)]"
      ],
      "execution_count": 46,
      "outputs": []
    },
    {
      "cell_type": "markdown",
      "metadata": {
        "id": "pFzohY_RMO6K"
      },
      "source": [
        "Setting up the functions we will be using:\n"
      ]
    },
    {
      "cell_type": "code",
      "metadata": {
        "id": "mav5DV3oMYOu"
      },
      "source": [
        "\n",
        "#Sigmoid function:\n",
        "\n",
        "def sigmoid(x):\n",
        "    return (1.0/(1.0+math.exp(-x)))\n",
        "\n"
      ],
      "execution_count": 47,
      "outputs": []
    },
    {
      "cell_type": "code",
      "metadata": {
        "id": "4lJjU4McMxxd"
      },
      "source": [
        "\n",
        "#Classsification function:\n",
        "\n",
        "def classsification(Y):\n",
        "    return [1 if y > 0.5 else 0 for y in Y]\n"
      ],
      "execution_count": 48,
      "outputs": []
    },
    {
      "cell_type": "code",
      "metadata": {
        "id": "pzWK3GifMzcT"
      },
      "source": [
        "\n",
        "#F(W, X) function:\n",
        "\n",
        "def F(W, X):\n",
        "    return sum([w*x for w, x in zip(W, x)])\n",
        "    "
      ],
      "execution_count": 49,
      "outputs": []
    },
    {
      "cell_type": "code",
      "metadata": {
        "id": "u4TqhdfANlNl"
      },
      "source": [
        "\n",
        "#Prediction Function\n",
        "\n",
        "def pred(model, x):\n",
        "  w1 = model[0]\n",
        "  w2 = model[1]\n",
        "  v1 = model[2]\n",
        "  z1 = sigmoid(F(w1, x))\n",
        "  z2 = sigmoid(F(w2, x))\n",
        "  Z = (1, z1, z2)\n",
        "  y = sigmoid(F(v1,Z))\n",
        "  return y\n",
        "  "
      ],
      "execution_count": 50,
      "outputs": []
    },
    {
      "cell_type": "code",
      "metadata": {
        "id": "DkQoCub9Q4r7"
      },
      "source": [
        "#Randomize Function\n",
        "\n",
        "def rand0():\n",
        "  return np.random.uniform(-1,1,3)\n"
      ],
      "execution_count": 51,
      "outputs": []
    },
    {
      "cell_type": "markdown",
      "metadata": {
        "id": "ry2CXC41RwxJ"
      },
      "source": [
        "We need to randomize the weights:"
      ]
    },
    {
      "cell_type": "code",
      "metadata": {
        "colab": {
          "base_uri": "https://localhost:8080/"
        },
        "id": "MJNJy_KFR1Tq",
        "outputId": "3259a163-8249-4aa4-b3fa-ad9161834a50"
      },
      "source": [
        "\n",
        "w1 = [rand0(),rand0(),rand0()]\n",
        "\n",
        "print(w1)\n"
      ],
      "execution_count": 52,
      "outputs": [
        {
          "output_type": "stream",
          "name": "stdout",
          "text": [
            "[array([ 0.93640361, -0.7511609 ,  0.61556387]), array([ 0.88948781, -0.65457041,  0.42647121]), array([ 0.70455318, -0.36600841, -0.28658077])]\n"
          ]
        }
      ]
    },
    {
      "cell_type": "code",
      "metadata": {
        "colab": {
          "base_uri": "https://localhost:8080/"
        },
        "id": "IAn5Sj1cVBk4",
        "outputId": "990f7563-92e8-4452-fbc7-48d0612e3db8"
      },
      "source": [
        "\n",
        "w2 = [rand0(),rand0(),rand0()]\n",
        "\n",
        "print(w2)\n"
      ],
      "execution_count": 53,
      "outputs": [
        {
          "output_type": "stream",
          "name": "stdout",
          "text": [
            "[array([-0.8285801 ,  0.71012417,  0.57070534]), array([ 0.76249796, -0.47101756, -0.22197642]), array([-0.64450781,  0.27640357,  0.65757281])]\n"
          ]
        }
      ]
    },
    {
      "cell_type": "code",
      "metadata": {
        "colab": {
          "base_uri": "https://localhost:8080/"
        },
        "id": "RaR-DsHMVBtw",
        "outputId": "0960317c-d971-45f5-f512-15b4aef67328"
      },
      "source": [
        "v1 = [rand0(),rand0(),rand0()]\n",
        "\n",
        "print(v1)\n"
      ],
      "execution_count": 54,
      "outputs": [
        {
          "output_type": "stream",
          "name": "stdout",
          "text": [
            "[array([-0.41823645,  0.90397833, -0.40558719]), array([0.69375672, 0.86142365, 0.19189748]), array([ 0.50691457,  0.9770077 , -0.41834833])]\n"
          ]
        }
      ]
    },
    {
      "cell_type": "code",
      "metadata": {
        "colab": {
          "base_uri": "https://localhost:8080/"
        },
        "id": "_eo5-HJSVJRP",
        "outputId": "8e623ce1-daa2-41ae-a18d-871476c6cc67"
      },
      "source": [
        " model = [w1,w2,v1]\n",
        "\n",
        "print(\"This is the randomized model: \", model)\n"
      ],
      "execution_count": 55,
      "outputs": [
        {
          "output_type": "stream",
          "name": "stdout",
          "text": [
            "This is the randomized model:  [[array([ 0.93640361, -0.7511609 ,  0.61556387]), array([ 0.88948781, -0.65457041,  0.42647121]), array([ 0.70455318, -0.36600841, -0.28658077])], [array([-0.8285801 ,  0.71012417,  0.57070534]), array([ 0.76249796, -0.47101756, -0.22197642]), array([-0.64450781,  0.27640357,  0.65757281])], [array([-0.41823645,  0.90397833, -0.40558719]), array([0.69375672, 0.86142365, 0.19189748]), array([ 0.50691457,  0.9770077 , -0.41834833])]]\n"
          ]
        }
      ]
    },
    {
      "cell_type": "markdown",
      "metadata": {
        "id": "33YgWvGUXZD0"
      },
      "source": [
        "Being Training Data:\n"
      ]
    },
    {
      "cell_type": "code",
      "metadata": {
        "id": "vaNp6hinXc6o"
      },
      "source": [
        "alpha = 0.3"
      ],
      "execution_count": 56,
      "outputs": []
    },
    {
      "cell_type": "code",
      "metadata": {
        "id": "h8PkayYbXmUe"
      },
      "source": [
        "def backProp(model, data, reps, learnRate, sqrErr, accScr):\n",
        "\n",
        "  w1 = model[0]\n",
        "  w2 = model[1]\n",
        "  v1 = model[2]\n",
        "\n",
        "  for i in range(reps):\n",
        "    np.random.shuffle(data)\n",
        "\n",
        "    if (i%)\n",
        "\n"
      ],
      "execution_count": 56,
      "outputs": []
    }
  ]
}